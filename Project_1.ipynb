{
 "cells": [
  {
   "cell_type": "markdown",
   "id": "-hXnf1FPDBmP",
   "metadata": {
    "id": "-hXnf1FPDBmP"
   },
   "source": [
    "# Exploratory Data Analysis of the NYC Food Order and Delivery "
   ]
  },
  {
   "cell_type": "markdown",
   "id": "l4fJJPx2RYHf",
   "metadata": {
    "id": "l4fJJPx2RYHf"
   },
   "source": [
    "## Importing the data"
   ]
  },
  {
   "cell_type": "code",
   "execution_count": 2,
   "id": "e7c43ac8",
   "metadata": {
    "executionInfo": {
     "elapsed": 1586,
     "status": "ok",
     "timestamp": 1676476948885,
     "user": {
      "displayName": "Victor Abril",
      "userId": "02019151479126081294"
     },
     "user_tz": 300
    },
    "id": "e7c43ac8"
   },
   "outputs": [],
   "source": [
    "# Import libraries\n",
    "import pandas as pd\n",
    "import matplotlib.pyplot as plt\n",
    "import numpy as np\n"
   ]
  },
  {
   "cell_type": "code",
   "execution_count": 5,
   "id": "96335979",
   "metadata": {
    "colab": {
     "base_uri": "https://localhost:8080/",
     "height": 206
    },
    "executionInfo": {
     "elapsed": 296,
     "status": "ok",
     "timestamp": 1676476993484,
     "user": {
      "displayName": "Victor Abril",
      "userId": "02019151479126081294"
     },
     "user_tz": 300
    },
    "id": "96335979",
    "outputId": "334e9209-beeb-44ea-c308-d4da059210ca"
   },
   "outputs": [
    {
     "data": {
      "text/html": [
       "<div>\n",
       "<style scoped>\n",
       "    .dataframe tbody tr th:only-of-type {\n",
       "        vertical-align: middle;\n",
       "    }\n",
       "\n",
       "    .dataframe tbody tr th {\n",
       "        vertical-align: top;\n",
       "    }\n",
       "\n",
       "    .dataframe thead th {\n",
       "        text-align: right;\n",
       "    }\n",
       "</style>\n",
       "<table border=\"1\" class=\"dataframe\">\n",
       "  <thead>\n",
       "    <tr style=\"text-align: right;\">\n",
       "      <th></th>\n",
       "      <th>order_id</th>\n",
       "      <th>customer_id</th>\n",
       "      <th>restaurant_name</th>\n",
       "      <th>cuisine_type</th>\n",
       "      <th>cost_of_the_order</th>\n",
       "      <th>day_of_the_week</th>\n",
       "      <th>rating</th>\n",
       "      <th>food_preparation_time</th>\n",
       "      <th>delivery_time</th>\n",
       "    </tr>\n",
       "  </thead>\n",
       "  <tbody>\n",
       "    <tr>\n",
       "      <th>0</th>\n",
       "      <td>1477147</td>\n",
       "      <td>337525</td>\n",
       "      <td>Hangawi</td>\n",
       "      <td>Korean</td>\n",
       "      <td>30.75</td>\n",
       "      <td>Weekend</td>\n",
       "      <td>Not given</td>\n",
       "      <td>25</td>\n",
       "      <td>20</td>\n",
       "    </tr>\n",
       "    <tr>\n",
       "      <th>1</th>\n",
       "      <td>1477685</td>\n",
       "      <td>358141</td>\n",
       "      <td>Blue Ribbon Sushi Izakaya</td>\n",
       "      <td>Japanese</td>\n",
       "      <td>12.08</td>\n",
       "      <td>Weekend</td>\n",
       "      <td>Not given</td>\n",
       "      <td>25</td>\n",
       "      <td>23</td>\n",
       "    </tr>\n",
       "    <tr>\n",
       "      <th>2</th>\n",
       "      <td>1477070</td>\n",
       "      <td>66393</td>\n",
       "      <td>Cafe Habana</td>\n",
       "      <td>Mexican</td>\n",
       "      <td>12.23</td>\n",
       "      <td>Weekday</td>\n",
       "      <td>5</td>\n",
       "      <td>23</td>\n",
       "      <td>28</td>\n",
       "    </tr>\n",
       "    <tr>\n",
       "      <th>3</th>\n",
       "      <td>1477334</td>\n",
       "      <td>106968</td>\n",
       "      <td>Blue Ribbon Fried Chicken</td>\n",
       "      <td>American</td>\n",
       "      <td>29.20</td>\n",
       "      <td>Weekend</td>\n",
       "      <td>3</td>\n",
       "      <td>25</td>\n",
       "      <td>15</td>\n",
       "    </tr>\n",
       "    <tr>\n",
       "      <th>4</th>\n",
       "      <td>1478249</td>\n",
       "      <td>76942</td>\n",
       "      <td>Dirty Bird to Go</td>\n",
       "      <td>American</td>\n",
       "      <td>11.59</td>\n",
       "      <td>Weekday</td>\n",
       "      <td>4</td>\n",
       "      <td>25</td>\n",
       "      <td>24</td>\n",
       "    </tr>\n",
       "  </tbody>\n",
       "</table>\n",
       "</div>"
      ],
      "text/plain": [
       "   order_id  customer_id            restaurant_name cuisine_type  \\\n",
       "0   1477147       337525                    Hangawi       Korean   \n",
       "1   1477685       358141  Blue Ribbon Sushi Izakaya     Japanese   \n",
       "2   1477070        66393                Cafe Habana      Mexican   \n",
       "3   1477334       106968  Blue Ribbon Fried Chicken     American   \n",
       "4   1478249        76942           Dirty Bird to Go     American   \n",
       "\n",
       "   cost_of_the_order day_of_the_week     rating  food_preparation_time  \\\n",
       "0              30.75         Weekend  Not given                     25   \n",
       "1              12.08         Weekend  Not given                     25   \n",
       "2              12.23         Weekday          5                     23   \n",
       "3              29.20         Weekend          3                     25   \n",
       "4              11.59         Weekday          4                     25   \n",
       "\n",
       "   delivery_time  \n",
       "0             20  \n",
       "1             23  \n",
       "2             28  \n",
       "3             15  \n",
       "4             24  "
      ]
     },
     "execution_count": 5,
     "metadata": {},
     "output_type": "execute_result"
    }
   ],
   "source": [
    "# Import the dataset\n",
    "path = \"Dataset/food_order.csv\"\n",
    "data_df = pd.read_csv(path)\n",
    "data_df.head()"
   ]
  },
  {
   "cell_type": "code",
   "execution_count": 4,
   "id": "MzeY8FDiA-Eg",
   "metadata": {
    "colab": {
     "base_uri": "https://localhost:8080/"
    },
    "executionInfo": {
     "elapsed": 59,
     "status": "ok",
     "timestamp": 1676476993485,
     "user": {
      "displayName": "Victor Abril",
      "userId": "02019151479126081294"
     },
     "user_tz": 300
    },
    "id": "MzeY8FDiA-Eg",
    "outputId": "e8f44fbf-8ed3-4a7a-8662-ee88115d3ad7"
   },
   "outputs": [
    {
     "name": "stdout",
     "output_type": "stream",
     "text": [
      "There are 1898 Rows and 9 Columns in the given dataset\n",
      "\n",
      "\n",
      "<class 'pandas.core.frame.DataFrame'>\n",
      "RangeIndex: 1898 entries, 0 to 1897\n",
      "Data columns (total 9 columns):\n",
      " #   Column                 Non-Null Count  Dtype  \n",
      "---  ------                 --------------  -----  \n",
      " 0   order_id               1898 non-null   int64  \n",
      " 1   customer_id            1898 non-null   int64  \n",
      " 2   restaurant_name        1898 non-null   object \n",
      " 3   cuisine_type           1898 non-null   object \n",
      " 4   cost_of_the_order      1898 non-null   float64\n",
      " 5   day_of_the_week        1898 non-null   object \n",
      " 6   rating                 1898 non-null   object \n",
      " 7   food_preparation_time  1898 non-null   int64  \n",
      " 8   delivery_time          1898 non-null   int64  \n",
      "dtypes: float64(1), int64(4), object(4)\n",
      "memory usage: 133.6+ KB\n"
     ]
    }
   ],
   "source": [
    "# Underdstand the structure of the data\n",
    "print('There are', data_df.shape[0], 'Rows and', data_df.shape[1], 'Columns in the given dataset')\n",
    "print(\"\\n\")\n",
    "data_df.info()"
   ]
  },
  {
   "cell_type": "markdown",
   "id": "Y475sVX2ByFl",
   "metadata": {
    "id": "Y475sVX2ByFl"
   },
   "source": [
    " We can make the following obseravtions about the dataset:\n",
    "* Since each column have the same number of entries, there are no null values in the dataset\n",
    "* 4 columns are int64, 4 columns are object and 1 column is float64\n"
   ]
  },
  {
   "cell_type": "markdown",
   "id": "YHkrkVjaO0hd",
   "metadata": {
    "id": "YHkrkVjaO0hd"
   },
   "source": [
    "## Data Cleaning/Wrangling"
   ]
  },
  {
   "cell_type": "markdown",
   "id": "C6Tjt5O0QpTw",
   "metadata": {
    "id": "C6Tjt5O0QpTw"
   },
   "source": [
    "### First we check for missing values on each column"
   ]
  },
  {
   "cell_type": "code",
   "execution_count": 5,
   "id": "3tKHACqZzb7C",
   "metadata": {
    "colab": {
     "base_uri": "https://localhost:8080/"
    },
    "executionInfo": {
     "elapsed": 45,
     "status": "ok",
     "timestamp": 1676476993485,
     "user": {
      "displayName": "Victor Abril",
      "userId": "02019151479126081294"
     },
     "user_tz": 300
    },
    "id": "3tKHACqZzb7C",
    "outputId": "d7da71ac-880f-471f-d36c-dffde0fc931d"
   },
   "outputs": [
    {
     "data": {
      "text/plain": [
       "order_id                 0\n",
       "customer_id              0\n",
       "restaurant_name          0\n",
       "cuisine_type             0\n",
       "cost_of_the_order        0\n",
       "day_of_the_week          0\n",
       "rating                   0\n",
       "food_preparation_time    0\n",
       "delivery_time            0\n",
       "dtype: int64"
      ]
     },
     "execution_count": 5,
     "metadata": {},
     "output_type": "execute_result"
    }
   ],
   "source": [
    "# Check to see if a column has any null values\n",
    "data_df.isnull().sum()"
   ]
  },
  {
   "cell_type": "markdown",
   "id": "VdKzXHtiCjeh",
   "metadata": {
    "id": "VdKzXHtiCjeh"
   },
   "source": [
    "There are no null values in the dataset"
   ]
  },
  {
   "cell_type": "markdown",
   "id": "bKV0el1iXEkD",
   "metadata": {
    "id": "bKV0el1iXEkD"
   },
   "source": [
    "### Then we check if there are duplicates"
   ]
  },
  {
   "cell_type": "code",
   "execution_count": 6,
   "id": "BaZ8rw3pXLt8",
   "metadata": {
    "colab": {
     "base_uri": "https://localhost:8080/",
     "height": 49
    },
    "executionInfo": {
     "elapsed": 42,
     "status": "ok",
     "timestamp": 1676476993485,
     "user": {
      "displayName": "Victor Abril",
      "userId": "02019151479126081294"
     },
     "user_tz": 300
    },
    "id": "BaZ8rw3pXLt8",
    "outputId": "f839db01-2d23-407a-d4c6-a204228b7350"
   },
   "outputs": [
    {
     "data": {
      "text/html": [
       "\n",
       "  <div id=\"df-f2ce2b51-c95c-4121-bc35-90c08d5c43b9\">\n",
       "    <div class=\"colab-df-container\">\n",
       "      <div>\n",
       "<style scoped>\n",
       "    .dataframe tbody tr th:only-of-type {\n",
       "        vertical-align: middle;\n",
       "    }\n",
       "\n",
       "    .dataframe tbody tr th {\n",
       "        vertical-align: top;\n",
       "    }\n",
       "\n",
       "    .dataframe thead th {\n",
       "        text-align: right;\n",
       "    }\n",
       "</style>\n",
       "<table border=\"1\" class=\"dataframe\">\n",
       "  <thead>\n",
       "    <tr style=\"text-align: right;\">\n",
       "      <th></th>\n",
       "      <th>order_id</th>\n",
       "      <th>customer_id</th>\n",
       "      <th>restaurant_name</th>\n",
       "      <th>cuisine_type</th>\n",
       "      <th>cost_of_the_order</th>\n",
       "      <th>day_of_the_week</th>\n",
       "      <th>rating</th>\n",
       "      <th>food_preparation_time</th>\n",
       "      <th>delivery_time</th>\n",
       "    </tr>\n",
       "  </thead>\n",
       "  <tbody>\n",
       "  </tbody>\n",
       "</table>\n",
       "</div>\n",
       "      <button class=\"colab-df-convert\" onclick=\"convertToInteractive('df-f2ce2b51-c95c-4121-bc35-90c08d5c43b9')\"\n",
       "              title=\"Convert this dataframe to an interactive table.\"\n",
       "              style=\"display:none;\">\n",
       "        \n",
       "  <svg xmlns=\"http://www.w3.org/2000/svg\" height=\"24px\"viewBox=\"0 0 24 24\"\n",
       "       width=\"24px\">\n",
       "    <path d=\"M0 0h24v24H0V0z\" fill=\"none\"/>\n",
       "    <path d=\"M18.56 5.44l.94 2.06.94-2.06 2.06-.94-2.06-.94-.94-2.06-.94 2.06-2.06.94zm-11 1L8.5 8.5l.94-2.06 2.06-.94-2.06-.94L8.5 2.5l-.94 2.06-2.06.94zm10 10l.94 2.06.94-2.06 2.06-.94-2.06-.94-.94-2.06-.94 2.06-2.06.94z\"/><path d=\"M17.41 7.96l-1.37-1.37c-.4-.4-.92-.59-1.43-.59-.52 0-1.04.2-1.43.59L10.3 9.45l-7.72 7.72c-.78.78-.78 2.05 0 2.83L4 21.41c.39.39.9.59 1.41.59.51 0 1.02-.2 1.41-.59l7.78-7.78 2.81-2.81c.8-.78.8-2.07 0-2.86zM5.41 20L4 18.59l7.72-7.72 1.47 1.35L5.41 20z\"/>\n",
       "  </svg>\n",
       "      </button>\n",
       "      \n",
       "  <style>\n",
       "    .colab-df-container {\n",
       "      display:flex;\n",
       "      flex-wrap:wrap;\n",
       "      gap: 12px;\n",
       "    }\n",
       "\n",
       "    .colab-df-convert {\n",
       "      background-color: #E8F0FE;\n",
       "      border: none;\n",
       "      border-radius: 50%;\n",
       "      cursor: pointer;\n",
       "      display: none;\n",
       "      fill: #1967D2;\n",
       "      height: 32px;\n",
       "      padding: 0 0 0 0;\n",
       "      width: 32px;\n",
       "    }\n",
       "\n",
       "    .colab-df-convert:hover {\n",
       "      background-color: #E2EBFA;\n",
       "      box-shadow: 0px 1px 2px rgba(60, 64, 67, 0.3), 0px 1px 3px 1px rgba(60, 64, 67, 0.15);\n",
       "      fill: #174EA6;\n",
       "    }\n",
       "\n",
       "    [theme=dark] .colab-df-convert {\n",
       "      background-color: #3B4455;\n",
       "      fill: #D2E3FC;\n",
       "    }\n",
       "\n",
       "    [theme=dark] .colab-df-convert:hover {\n",
       "      background-color: #434B5C;\n",
       "      box-shadow: 0px 1px 3px 1px rgba(0, 0, 0, 0.15);\n",
       "      filter: drop-shadow(0px 1px 2px rgba(0, 0, 0, 0.3));\n",
       "      fill: #FFFFFF;\n",
       "    }\n",
       "  </style>\n",
       "\n",
       "      <script>\n",
       "        const buttonEl =\n",
       "          document.querySelector('#df-f2ce2b51-c95c-4121-bc35-90c08d5c43b9 button.colab-df-convert');\n",
       "        buttonEl.style.display =\n",
       "          google.colab.kernel.accessAllowed ? 'block' : 'none';\n",
       "\n",
       "        async function convertToInteractive(key) {\n",
       "          const element = document.querySelector('#df-f2ce2b51-c95c-4121-bc35-90c08d5c43b9');\n",
       "          const dataTable =\n",
       "            await google.colab.kernel.invokeFunction('convertToInteractive',\n",
       "                                                     [key], {});\n",
       "          if (!dataTable) return;\n",
       "\n",
       "          const docLinkHtml = 'Like what you see? Visit the ' +\n",
       "            '<a target=\"_blank\" href=https://colab.research.google.com/notebooks/data_table.ipynb>data table notebook</a>'\n",
       "            + ' to learn more about interactive tables.';\n",
       "          element.innerHTML = '';\n",
       "          dataTable['output_type'] = 'display_data';\n",
       "          await google.colab.output.renderOutput(dataTable, element);\n",
       "          const docLink = document.createElement('div');\n",
       "          docLink.innerHTML = docLinkHtml;\n",
       "          element.appendChild(docLink);\n",
       "        }\n",
       "      </script>\n",
       "    </div>\n",
       "  </div>\n",
       "  "
      ],
      "text/plain": [
       "Empty DataFrame\n",
       "Columns: [order_id, customer_id, restaurant_name, cuisine_type, cost_of_the_order, day_of_the_week, rating, food_preparation_time, delivery_time]\n",
       "Index: []"
      ]
     },
     "execution_count": 6,
     "metadata": {},
     "output_type": "execute_result"
    }
   ],
   "source": [
    "# check to see if there are any dupplicated rows\n",
    "data_df[data_df.duplicated(keep = False)]"
   ]
  },
  {
   "cell_type": "markdown",
   "id": "z4CulJa-X4CS",
   "metadata": {
    "id": "z4CulJa-X4CS"
   },
   "source": [
    "there are no duplicated rows"
   ]
  },
  {
   "cell_type": "markdown",
   "id": "Urs5rBLiQ9VG",
   "metadata": {
    "id": "Urs5rBLiQ9VG"
   },
   "source": [
    "### Afterwards we check the values for each column"
   ]
  },
  {
   "cell_type": "code",
   "execution_count": 7,
   "id": "MIZ6sxKPi5Ik",
   "metadata": {
    "colab": {
     "base_uri": "https://localhost:8080/"
    },
    "executionInfo": {
     "elapsed": 42,
     "status": "ok",
     "timestamp": 1676476993486,
     "user": {
      "displayName": "Victor Abril",
      "userId": "02019151479126081294"
     },
     "user_tz": 300
    },
    "id": "MIZ6sxKPi5Ik",
    "outputId": "1c1dcdc9-5ef2-472a-8d40-85e4042cb176"
   },
   "outputs": [
    {
     "data": {
      "text/plain": [
       "array(['Hangawi', 'Blue Ribbon Sushi Izakaya', 'Cafe Habana',\n",
       "       'Blue Ribbon Fried Chicken', 'Dirty Bird to Go',\n",
       "       'Tamarind TriBeCa', 'The Meatball Shop', 'Barbounia',\n",
       "       'Anjappar Chettinad', 'Bukhara Grill',\n",
       "       'Big Wong Restaurant \\x8c_¤¾Ñ¼', 'Empanada Mama (closed)', 'Pylos',\n",
       "       \"Lucky's Famous Burgers\", 'Shake Shack', 'Sushi of Gari',\n",
       "       'RedFarm Hudson', 'Blue Ribbon Sushi',\n",
       "       'Five Guys Burgers and Fries', 'Tortaria', 'Cafe Mogador',\n",
       "       'Otto Enoteca Pizzeria', 'Vezzo Thin Crust Pizza',\n",
       "       'Sushi of Gari 46', 'The Kati Roll Company', 'Klong',\n",
       "       '5 Napkin Burger', 'TAO', 'Parm', 'Sushi Samba',\n",
       "       'Haru Gramercy Park', 'Chipotle Mexican Grill $1.99 Delivery',\n",
       "       'RedFarm Broadway', 'Cafeteria', 'DuMont Burger',\n",
       "       \"Sarabeth's East\", 'Hill Country Fried Chicken', 'Bistango',\n",
       "       \"Jack's Wife Freda\", \"Mamoun's Falafel\", 'Prosperity Dumpling',\n",
       "       'Blue Ribbon Sushi Bar & Grill', 'Westville Hudson',\n",
       "       'Blue Ribbon Brooklyn', 'Nobu Next Door', 'Osteria Morini',\n",
       "       'Haandi', 'Benihana', 'Han Dynasty', 'Chote Nawab',\n",
       "       'Mission Cantina', \"Xi'an Famous Foods\", 'Rubirosa',\n",
       "       \"Joe's Shanghai \\x8e_À\\x8eü£¾÷´\", 'Bareburger', 'The Odeon',\n",
       "       'Pongsri Thai', 'Yama Japanese Restaurant', 'Momoya',\n",
       "       'Balthazar Boulangerie', 'CafÌ© China', 'Boqueria',\n",
       "       'Song Thai Restaurant & Bar', 'Five Leaves',\n",
       "       'Pinto Nouveau Thai Bistro', \"Amy Ruth's\", 'Pepe Giallo',\n",
       "       'indikitch', 'Yama 49', 'Piccolo Angolo', 'Pepe Rosso To Go',\n",
       "       \"L'Express\", 'Amma', 'Delicatessen', \"S'MAC\",\n",
       "       \"Vanessa's Dumplings\", 'Bhatti Indian Grill', 'Taro Sushi',\n",
       "       'Donburi-ya', 'Hatsuhana', 'Samurai Mama', 'Waverly Diner',\n",
       "       'Tarallucci e Vino Restaurant', \"P.J. Clarke's\",\n",
       "       'Lantern Thai Kitchen', 'ilili Restaurant', 'The Smile',\n",
       "       \"Vanessa's Dumpling House\", \"Bubby's \", 'Woorijip',\n",
       "       'Dirty Bird To Go (archived)', 'Haveli Indian Restaurant',\n",
       "       'Dos Caminos', 'da Umberto', 'Sushi of Gari Tribeca',\n",
       "       'Burger Joint', 'Room Service', \"Sarabeth's Restaurant\",\n",
       "       'Xe May Sandwich Shop', 'Hibino', 'Mira Sushi', 'Melt Shop',\n",
       "       'J. G. Melon', 'Hummus Place', 'Saravanaa Bhavan',\n",
       "       'Friend of a Farmer', 'The Loop', 'Balade', 'Posto',\n",
       "       'Terakawa Ramen', 'Kambi Ramen House', 'Wo Hop Restaurant',\n",
       "       'Spice Thai', \"Dickson's Farmstand Meats\",\n",
       "       'UVA Wine Bar & Restaurant', 'Serafina Fabulous Pizza',\n",
       "       'Gaia Italian Cafe', 'Chola Eclectic Indian Cuisine',\n",
       "       'Hot Kitchen', 'Junoon', 'Ravagh Persian Grill', 'Rohm Thai',\n",
       "       'Dig Inn Seasonal Market', 'Olea', 'Cho Dang Gol',\n",
       "       'El Parador Cafe', 'Socarrat Paella Bar',\n",
       "       \"Don's Bogam BBQ & Wine Bar\", 'Alidoro', \"Tony's Di Napoli\",\n",
       "       'Cipriani Le Specialita', 'Sushi Choshi', 'Kanoyama', 'V-Nam Cafe',\n",
       "       'Zero Otto Nove', 'Dos Caminos Soho', 'Go! Go! Curry!',\n",
       "       'La Follia', 'Izakaya Ten', '12 Chairs', 'Philippe Chow',\n",
       "       'The MasalaWala', 'brgr', \"Carmine's\", 'Asuka Sushi', 'Aurora',\n",
       "       \"Sarabeth's\", 'Crema Restaurante', \"Big Daddy's\",\n",
       "       'Moonstruck on Second', 'Cafe de La Esquina', 'Olive Garden',\n",
       "       '67 Burger', 'Tres Carnes', \"Schnipper's Quality Kitchen\",\n",
       "       'Nha Trang One', 'Market Table', 'Galli Restaurant',\n",
       "       'Hampton Chutney Co.', 'Byblos Restaurant',\n",
       "       'Grand Sichuan International', 'Le Grainne Cafe', 'Il Bambino',\n",
       "       'Kori Restaurant and Bar', 'DespaÌ±a', 'Lamarca Pasta',\n",
       "       'Lucky Strike', \"Paul & Jimmy's\", 'Hunan Manor', \"Coppola's East\",\n",
       "       'Emporio', 'Wa Jeal', 'Le Zie 2000 Trattoria', 'Rye House',\n",
       "       \"Hiroko's Place\", 'Frank Restaurant', \"Sarabeth's West\",\n",
       "       \"'wichcraft\"], dtype=object)"
      ]
     },
     "execution_count": 7,
     "metadata": {},
     "output_type": "execute_result"
    }
   ],
   "source": [
    "data_df[\"restaurant_name\"].unique()"
   ]
  },
  {
   "cell_type": "markdown",
   "id": "T3Kzj8WVQQeE",
   "metadata": {
    "id": "T3Kzj8WVQQeE"
   },
   "source": [
    "There seems to be some mistakes in restaurant names that needs to be fixed"
   ]
  },
  {
   "cell_type": "code",
   "execution_count": 8,
   "id": "H-asir1hpY8E",
   "metadata": {
    "executionInfo": {
     "elapsed": 40,
     "status": "ok",
     "timestamp": 1676476993487,
     "user": {
      "displayName": "Victor Abril",
      "userId": "02019151479126081294"
     },
     "user_tz": 300
    },
    "id": "H-asir1hpY8E"
   },
   "outputs": [],
   "source": [
    "data_df = data_df.replace({\"Big Wong Restaurant \\x8c_¤¾Ñ¼\":\"Big Wong Restaurant\",\n",
    "                           'Empanada Mama (closed)':'Empanada Mama','Chipotle Mexican Grill $1.99 Delivery':'Chipotle Mexican Grill',\n",
    "                           \"Joe's Shanghai \\x8e_À\\x8eü£¾÷´\":\"Joe's Shanghai\", 'Dirty Bird To Go (archived)':'Dirty Bird To Go' ,\n",
    "                           'CafÌ© China':'Cafe China'})"
   ]
  },
  {
   "cell_type": "code",
   "execution_count": 9,
   "id": "1CFxIyLItmXz",
   "metadata": {
    "colab": {
     "base_uri": "https://localhost:8080/"
    },
    "executionInfo": {
     "elapsed": 39,
     "status": "ok",
     "timestamp": 1676476993487,
     "user": {
      "displayName": "Victor Abril",
      "userId": "02019151479126081294"
     },
     "user_tz": 300
    },
    "id": "1CFxIyLItmXz",
    "outputId": "4ef4475f-dda3-4076-d12e-7211e8fe22ef"
   },
   "outputs": [
    {
     "data": {
      "text/plain": [
       "array([\"'wichcraft\", '12 Chairs', '5 Napkin Burger', '67 Burger',\n",
       "       'Alidoro', 'Amma', \"Amy Ruth's\", 'Anjappar Chettinad',\n",
       "       'Asuka Sushi', 'Aurora', 'Balade', 'Balthazar Boulangerie',\n",
       "       'Barbounia', 'Bareburger', 'Benihana', 'Bhatti Indian Grill',\n",
       "       \"Big Daddy's\", 'Big Wong Restaurant', 'Bistango',\n",
       "       'Blue Ribbon Brooklyn', 'Blue Ribbon Fried Chicken',\n",
       "       'Blue Ribbon Sushi', 'Blue Ribbon Sushi Bar & Grill',\n",
       "       'Blue Ribbon Sushi Izakaya', 'Boqueria', \"Bubby's \",\n",
       "       'Bukhara Grill', 'Burger Joint', 'Byblos Restaurant', 'Cafe China',\n",
       "       'Cafe Habana', 'Cafe Mogador', 'Cafe de La Esquina', 'Cafeteria',\n",
       "       \"Carmine's\", 'Chipotle Mexican Grill', 'Cho Dang Gol',\n",
       "       'Chola Eclectic Indian Cuisine', 'Chote Nawab',\n",
       "       'Cipriani Le Specialita', \"Coppola's East\", 'Crema Restaurante',\n",
       "       'Delicatessen', 'DespaÌ±a', \"Dickson's Farmstand Meats\",\n",
       "       'Dig Inn Seasonal Market', 'Dirty Bird To Go', 'Dirty Bird to Go',\n",
       "       \"Don's Bogam BBQ & Wine Bar\", 'Donburi-ya', 'Dos Caminos',\n",
       "       'Dos Caminos Soho', 'DuMont Burger', 'El Parador Cafe',\n",
       "       'Empanada Mama', 'Emporio', 'Five Guys Burgers and Fries',\n",
       "       'Five Leaves', 'Frank Restaurant', 'Friend of a Farmer',\n",
       "       'Gaia Italian Cafe', 'Galli Restaurant', 'Go! Go! Curry!',\n",
       "       'Grand Sichuan International', 'Haandi', 'Hampton Chutney Co.',\n",
       "       'Han Dynasty', 'Hangawi', 'Haru Gramercy Park', 'Hatsuhana',\n",
       "       'Haveli Indian Restaurant', 'Hibino', 'Hill Country Fried Chicken',\n",
       "       \"Hiroko's Place\", 'Hot Kitchen', 'Hummus Place', 'Hunan Manor',\n",
       "       'Il Bambino', 'Izakaya Ten', 'J. G. Melon', \"Jack's Wife Freda\",\n",
       "       \"Joe's Shanghai\", 'Junoon', 'Kambi Ramen House', 'Kanoyama',\n",
       "       'Klong', 'Kori Restaurant and Bar', \"L'Express\", 'La Follia',\n",
       "       'Lamarca Pasta', 'Lantern Thai Kitchen', 'Le Grainne Cafe',\n",
       "       'Le Zie 2000 Trattoria', 'Lucky Strike', \"Lucky's Famous Burgers\",\n",
       "       \"Mamoun's Falafel\", 'Market Table', 'Melt Shop', 'Mira Sushi',\n",
       "       'Mission Cantina', 'Momoya', 'Moonstruck on Second',\n",
       "       'Nha Trang One', 'Nobu Next Door', 'Olea', 'Olive Garden',\n",
       "       'Osteria Morini', 'Otto Enoteca Pizzeria', \"P.J. Clarke's\", 'Parm',\n",
       "       \"Paul & Jimmy's\", 'Pepe Giallo', 'Pepe Rosso To Go',\n",
       "       'Philippe Chow', 'Piccolo Angolo', 'Pinto Nouveau Thai Bistro',\n",
       "       'Pongsri Thai', 'Posto', 'Prosperity Dumpling', 'Pylos',\n",
       "       'Ravagh Persian Grill', 'RedFarm Broadway', 'RedFarm Hudson',\n",
       "       'Rohm Thai', 'Room Service', 'Rubirosa', 'Rye House', \"S'MAC\",\n",
       "       'Samurai Mama', \"Sarabeth's\", \"Sarabeth's East\",\n",
       "       \"Sarabeth's Restaurant\", \"Sarabeth's West\", 'Saravanaa Bhavan',\n",
       "       \"Schnipper's Quality Kitchen\", 'Serafina Fabulous Pizza',\n",
       "       'Shake Shack', 'Socarrat Paella Bar', 'Song Thai Restaurant & Bar',\n",
       "       'Spice Thai', 'Sushi Choshi', 'Sushi Samba', 'Sushi of Gari',\n",
       "       'Sushi of Gari 46', 'Sushi of Gari Tribeca', 'TAO',\n",
       "       'Tamarind TriBeCa', 'Tarallucci e Vino Restaurant', 'Taro Sushi',\n",
       "       'Terakawa Ramen', 'The Kati Roll Company', 'The Loop',\n",
       "       'The MasalaWala', 'The Meatball Shop', 'The Odeon', 'The Smile',\n",
       "       \"Tony's Di Napoli\", 'Tortaria', 'Tres Carnes',\n",
       "       'UVA Wine Bar & Restaurant', 'V-Nam Cafe',\n",
       "       \"Vanessa's Dumpling House\", \"Vanessa's Dumplings\",\n",
       "       'Vezzo Thin Crust Pizza', 'Wa Jeal', 'Waverly Diner',\n",
       "       'Westville Hudson', 'Wo Hop Restaurant', 'Woorijip',\n",
       "       'Xe May Sandwich Shop', \"Xi'an Famous Foods\", 'Yama 49',\n",
       "       'Yama Japanese Restaurant', 'Zero Otto Nove', 'brgr', 'da Umberto',\n",
       "       'ilili Restaurant', 'indikitch'], dtype=object)"
      ]
     },
     "execution_count": 9,
     "metadata": {},
     "output_type": "execute_result"
    }
   ],
   "source": [
    "np.sort(data_df[\"restaurant_name\"].unique())"
   ]
  },
  {
   "cell_type": "markdown",
   "id": "8-u6rPbWSfmN",
   "metadata": {
    "id": "8-u6rPbWSfmN"
   },
   "source": [
    "Values for restaurant names are now fixed"
   ]
  },
  {
   "cell_type": "code",
   "execution_count": 10,
   "id": "056625e6",
   "metadata": {
    "colab": {
     "base_uri": "https://localhost:8080/"
    },
    "executionInfo": {
     "elapsed": 27,
     "status": "ok",
     "timestamp": 1676476993488,
     "user": {
      "displayName": "Victor Abril",
      "userId": "02019151479126081294"
     },
     "user_tz": 300
    },
    "id": "056625e6",
    "outputId": "0e042e71-c29f-4a56-8073-4bc44d6a2222"
   },
   "outputs": [
    {
     "data": {
      "text/plain": [
       "array(['Korean', 'Japanese', 'Mexican', 'American', 'Indian', 'Italian',\n",
       "       'Mediterranean', 'Chinese', 'Middle Eastern', 'Thai', 'Southern',\n",
       "       'French', 'Spanish', 'Vietnamese'], dtype=object)"
      ]
     },
     "execution_count": 10,
     "metadata": {},
     "output_type": "execute_result"
    }
   ],
   "source": [
    "data_df[\"cuisine_type\"].unique()"
   ]
  },
  {
   "cell_type": "markdown",
   "id": "sZdOnQG5afdo",
   "metadata": {
    "id": "sZdOnQG5afdo"
   },
   "source": [
    "Values for cuisine type appear to be in order"
   ]
  },
  {
   "cell_type": "code",
   "execution_count": 11,
   "id": "u2evPccBt1wp",
   "metadata": {
    "colab": {
     "base_uri": "https://localhost:8080/"
    },
    "executionInfo": {
     "elapsed": 22,
     "status": "ok",
     "timestamp": 1676476993488,
     "user": {
      "displayName": "Victor Abril",
      "userId": "02019151479126081294"
     },
     "user_tz": 300
    },
    "id": "u2evPccBt1wp",
    "outputId": "09435bf7-6349-4af8-92cb-4d3081f44c4e"
   },
   "outputs": [
    {
     "data": {
      "text/plain": [
       "array(['Weekend', 'Weekday'], dtype=object)"
      ]
     },
     "execution_count": 11,
     "metadata": {},
     "output_type": "execute_result"
    }
   ],
   "source": [
    "data_df[\"day_of_the_week\"].unique()"
   ]
  },
  {
   "cell_type": "markdown",
   "id": "u_LArR3wa1D9",
   "metadata": {
    "id": "u_LArR3wa1D9"
   },
   "source": [
    "Values for day of the week appear to be in order"
   ]
  },
  {
   "cell_type": "code",
   "execution_count": 12,
   "id": "pneiIClZuHPs",
   "metadata": {
    "colab": {
     "base_uri": "https://localhost:8080/"
    },
    "executionInfo": {
     "elapsed": 273,
     "status": "ok",
     "timestamp": 1676476993745,
     "user": {
      "displayName": "Victor Abril",
      "userId": "02019151479126081294"
     },
     "user_tz": 300
    },
    "id": "pneiIClZuHPs",
    "outputId": "8a5cbb5b-6cea-446f-a6ec-97ab926c99f5"
   },
   "outputs": [
    {
     "data": {
      "text/plain": [
       "array(['Not given', '5', '3', '4'], dtype=object)"
      ]
     },
     "execution_count": 12,
     "metadata": {},
     "output_type": "execute_result"
    }
   ],
   "source": [
    "data_df[\"rating\"].unique()"
   ]
  },
  {
   "cell_type": "markdown",
   "id": "BeQA7900cpie",
   "metadata": {
    "id": "BeQA7900cpie"
   },
   "source": [
    "There seems to be a 'Not given' value that represents ratings not givem or null values. Lets check how many of them are there"
   ]
  },
  {
   "cell_type": "code",
   "execution_count": 13,
   "id": "eCBj9sVVcbg5",
   "metadata": {
    "colab": {
     "base_uri": "https://localhost:8080/"
    },
    "executionInfo": {
     "elapsed": 50,
     "status": "ok",
     "timestamp": 1676476993746,
     "user": {
      "displayName": "Victor Abril",
      "userId": "02019151479126081294"
     },
     "user_tz": 300
    },
    "id": "eCBj9sVVcbg5",
    "outputId": "dcc98ed8-0c13-48c4-f9d7-fdc44f8dabe9"
   },
   "outputs": [
    {
     "data": {
      "text/plain": [
       "Not given    38.777661\n",
       "5            30.979979\n",
       "4            20.337197\n",
       "3             9.905163\n",
       "Name: rating, dtype: float64"
      ]
     },
     "execution_count": 13,
     "metadata": {},
     "output_type": "execute_result"
    }
   ],
   "source": [
    "data_df[\"rating\"].value_counts(normalize=True)*100"
   ]
  },
  {
   "cell_type": "markdown",
   "id": "UhbJD8fwcWSb",
   "metadata": {
    "id": "UhbJD8fwcWSb"
   },
   "source": [
    "It appears that there are approximately 39% of orders where ratings are 'Not given' we can drop the rows with 'Not given' and only keep the rows that have ratings"
   ]
  },
  {
   "cell_type": "code",
   "execution_count": 14,
   "id": "-V1i2AlMcPil",
   "metadata": {
    "colab": {
     "base_uri": "https://localhost:8080/"
    },
    "executionInfo": {
     "elapsed": 49,
     "status": "ok",
     "timestamp": 1676476993747,
     "user": {
      "displayName": "Victor Abril",
      "userId": "02019151479126081294"
     },
     "user_tz": 300
    },
    "id": "-V1i2AlMcPil",
    "outputId": "218b10e7-969c-4c0f-8d78-40d11ecc10de"
   },
   "outputs": [
    {
     "name": "stdout",
     "output_type": "stream",
     "text": [
      "<class 'pandas.core.frame.DataFrame'>\n",
      "Int64Index: 1162 entries, 2 to 1896\n",
      "Data columns (total 9 columns):\n",
      " #   Column                 Non-Null Count  Dtype  \n",
      "---  ------                 --------------  -----  \n",
      " 0   order_id               1162 non-null   int64  \n",
      " 1   customer_id            1162 non-null   int64  \n",
      " 2   restaurant_name        1162 non-null   object \n",
      " 3   cuisine_type           1162 non-null   object \n",
      " 4   cost_of_the_order      1162 non-null   float64\n",
      " 5   day_of_the_week        1162 non-null   object \n",
      " 6   rating                 1162 non-null   int64  \n",
      " 7   food_preparation_time  1162 non-null   int64  \n",
      " 8   delivery_time          1162 non-null   int64  \n",
      "dtypes: float64(1), int64(5), object(3)\n",
      "memory usage: 90.8+ KB\n"
     ]
    }
   ],
   "source": [
    "data_df = data_df.query(\"rating != 'Not given'\")\n",
    "data_df = data_df.astype({\"rating\": int})\n",
    "data_df.info()"
   ]
  },
  {
   "cell_type": "markdown",
   "id": "x-PhhxTDYecl",
   "metadata": {
    "id": "x-PhhxTDYecl"
   },
   "source": [
    "To simplify calculations and analysis, food preparation time and delivery time will be added together to create a new column that has the total time it took to complete the order (order completition time)"
   ]
  },
  {
   "cell_type": "code",
   "execution_count": 15,
   "id": "-zY70MpLYfMb",
   "metadata": {
    "colab": {
     "base_uri": "https://localhost:8080/",
     "height": 206
    },
    "executionInfo": {
     "elapsed": 46,
     "status": "ok",
     "timestamp": 1676476993747,
     "user": {
      "displayName": "Victor Abril",
      "userId": "02019151479126081294"
     },
     "user_tz": 300
    },
    "id": "-zY70MpLYfMb",
    "outputId": "e57ec82d-9cf5-4a4b-ed8b-538534025986"
   },
   "outputs": [
    {
     "data": {
      "text/html": [
       "\n",
       "  <div id=\"df-ca303da1-55cd-4216-a402-33418292e5f2\">\n",
       "    <div class=\"colab-df-container\">\n",
       "      <div>\n",
       "<style scoped>\n",
       "    .dataframe tbody tr th:only-of-type {\n",
       "        vertical-align: middle;\n",
       "    }\n",
       "\n",
       "    .dataframe tbody tr th {\n",
       "        vertical-align: top;\n",
       "    }\n",
       "\n",
       "    .dataframe thead th {\n",
       "        text-align: right;\n",
       "    }\n",
       "</style>\n",
       "<table border=\"1\" class=\"dataframe\">\n",
       "  <thead>\n",
       "    <tr style=\"text-align: right;\">\n",
       "      <th></th>\n",
       "      <th>order_id</th>\n",
       "      <th>customer_id</th>\n",
       "      <th>restaurant_name</th>\n",
       "      <th>cuisine_type</th>\n",
       "      <th>cost_of_the_order</th>\n",
       "      <th>day_of_the_week</th>\n",
       "      <th>rating</th>\n",
       "      <th>food_preparation_time</th>\n",
       "      <th>delivery_time</th>\n",
       "      <th>order_completion_time</th>\n",
       "    </tr>\n",
       "  </thead>\n",
       "  <tbody>\n",
       "    <tr>\n",
       "      <th>2</th>\n",
       "      <td>1477070</td>\n",
       "      <td>66393</td>\n",
       "      <td>Cafe Habana</td>\n",
       "      <td>Mexican</td>\n",
       "      <td>12.23</td>\n",
       "      <td>Weekday</td>\n",
       "      <td>5</td>\n",
       "      <td>23</td>\n",
       "      <td>28</td>\n",
       "      <td>51</td>\n",
       "    </tr>\n",
       "    <tr>\n",
       "      <th>3</th>\n",
       "      <td>1477334</td>\n",
       "      <td>106968</td>\n",
       "      <td>Blue Ribbon Fried Chicken</td>\n",
       "      <td>American</td>\n",
       "      <td>29.20</td>\n",
       "      <td>Weekend</td>\n",
       "      <td>3</td>\n",
       "      <td>25</td>\n",
       "      <td>15</td>\n",
       "      <td>40</td>\n",
       "    </tr>\n",
       "    <tr>\n",
       "      <th>4</th>\n",
       "      <td>1478249</td>\n",
       "      <td>76942</td>\n",
       "      <td>Dirty Bird to Go</td>\n",
       "      <td>American</td>\n",
       "      <td>11.59</td>\n",
       "      <td>Weekday</td>\n",
       "      <td>4</td>\n",
       "      <td>25</td>\n",
       "      <td>24</td>\n",
       "      <td>49</td>\n",
       "    </tr>\n",
       "    <tr>\n",
       "      <th>5</th>\n",
       "      <td>1477224</td>\n",
       "      <td>147468</td>\n",
       "      <td>Tamarind TriBeCa</td>\n",
       "      <td>Indian</td>\n",
       "      <td>25.22</td>\n",
       "      <td>Weekday</td>\n",
       "      <td>3</td>\n",
       "      <td>20</td>\n",
       "      <td>24</td>\n",
       "      <td>44</td>\n",
       "    </tr>\n",
       "    <tr>\n",
       "      <th>7</th>\n",
       "      <td>1477859</td>\n",
       "      <td>89574</td>\n",
       "      <td>Barbounia</td>\n",
       "      <td>Mediterranean</td>\n",
       "      <td>5.97</td>\n",
       "      <td>Weekday</td>\n",
       "      <td>3</td>\n",
       "      <td>33</td>\n",
       "      <td>30</td>\n",
       "      <td>63</td>\n",
       "    </tr>\n",
       "  </tbody>\n",
       "</table>\n",
       "</div>\n",
       "      <button class=\"colab-df-convert\" onclick=\"convertToInteractive('df-ca303da1-55cd-4216-a402-33418292e5f2')\"\n",
       "              title=\"Convert this dataframe to an interactive table.\"\n",
       "              style=\"display:none;\">\n",
       "        \n",
       "  <svg xmlns=\"http://www.w3.org/2000/svg\" height=\"24px\"viewBox=\"0 0 24 24\"\n",
       "       width=\"24px\">\n",
       "    <path d=\"M0 0h24v24H0V0z\" fill=\"none\"/>\n",
       "    <path d=\"M18.56 5.44l.94 2.06.94-2.06 2.06-.94-2.06-.94-.94-2.06-.94 2.06-2.06.94zm-11 1L8.5 8.5l.94-2.06 2.06-.94-2.06-.94L8.5 2.5l-.94 2.06-2.06.94zm10 10l.94 2.06.94-2.06 2.06-.94-2.06-.94-.94-2.06-.94 2.06-2.06.94z\"/><path d=\"M17.41 7.96l-1.37-1.37c-.4-.4-.92-.59-1.43-.59-.52 0-1.04.2-1.43.59L10.3 9.45l-7.72 7.72c-.78.78-.78 2.05 0 2.83L4 21.41c.39.39.9.59 1.41.59.51 0 1.02-.2 1.41-.59l7.78-7.78 2.81-2.81c.8-.78.8-2.07 0-2.86zM5.41 20L4 18.59l7.72-7.72 1.47 1.35L5.41 20z\"/>\n",
       "  </svg>\n",
       "      </button>\n",
       "      \n",
       "  <style>\n",
       "    .colab-df-container {\n",
       "      display:flex;\n",
       "      flex-wrap:wrap;\n",
       "      gap: 12px;\n",
       "    }\n",
       "\n",
       "    .colab-df-convert {\n",
       "      background-color: #E8F0FE;\n",
       "      border: none;\n",
       "      border-radius: 50%;\n",
       "      cursor: pointer;\n",
       "      display: none;\n",
       "      fill: #1967D2;\n",
       "      height: 32px;\n",
       "      padding: 0 0 0 0;\n",
       "      width: 32px;\n",
       "    }\n",
       "\n",
       "    .colab-df-convert:hover {\n",
       "      background-color: #E2EBFA;\n",
       "      box-shadow: 0px 1px 2px rgba(60, 64, 67, 0.3), 0px 1px 3px 1px rgba(60, 64, 67, 0.15);\n",
       "      fill: #174EA6;\n",
       "    }\n",
       "\n",
       "    [theme=dark] .colab-df-convert {\n",
       "      background-color: #3B4455;\n",
       "      fill: #D2E3FC;\n",
       "    }\n",
       "\n",
       "    [theme=dark] .colab-df-convert:hover {\n",
       "      background-color: #434B5C;\n",
       "      box-shadow: 0px 1px 3px 1px rgba(0, 0, 0, 0.15);\n",
       "      filter: drop-shadow(0px 1px 2px rgba(0, 0, 0, 0.3));\n",
       "      fill: #FFFFFF;\n",
       "    }\n",
       "  </style>\n",
       "\n",
       "      <script>\n",
       "        const buttonEl =\n",
       "          document.querySelector('#df-ca303da1-55cd-4216-a402-33418292e5f2 button.colab-df-convert');\n",
       "        buttonEl.style.display =\n",
       "          google.colab.kernel.accessAllowed ? 'block' : 'none';\n",
       "\n",
       "        async function convertToInteractive(key) {\n",
       "          const element = document.querySelector('#df-ca303da1-55cd-4216-a402-33418292e5f2');\n",
       "          const dataTable =\n",
       "            await google.colab.kernel.invokeFunction('convertToInteractive',\n",
       "                                                     [key], {});\n",
       "          if (!dataTable) return;\n",
       "\n",
       "          const docLinkHtml = 'Like what you see? Visit the ' +\n",
       "            '<a target=\"_blank\" href=https://colab.research.google.com/notebooks/data_table.ipynb>data table notebook</a>'\n",
       "            + ' to learn more about interactive tables.';\n",
       "          element.innerHTML = '';\n",
       "          dataTable['output_type'] = 'display_data';\n",
       "          await google.colab.output.renderOutput(dataTable, element);\n",
       "          const docLink = document.createElement('div');\n",
       "          docLink.innerHTML = docLinkHtml;\n",
       "          element.appendChild(docLink);\n",
       "        }\n",
       "      </script>\n",
       "    </div>\n",
       "  </div>\n",
       "  "
      ],
      "text/plain": [
       "   order_id  customer_id            restaurant_name   cuisine_type  \\\n",
       "2   1477070        66393                Cafe Habana        Mexican   \n",
       "3   1477334       106968  Blue Ribbon Fried Chicken       American   \n",
       "4   1478249        76942           Dirty Bird to Go       American   \n",
       "5   1477224       147468           Tamarind TriBeCa         Indian   \n",
       "7   1477859        89574                  Barbounia  Mediterranean   \n",
       "\n",
       "   cost_of_the_order day_of_the_week  rating  food_preparation_time  \\\n",
       "2              12.23         Weekday       5                     23   \n",
       "3              29.20         Weekend       3                     25   \n",
       "4              11.59         Weekday       4                     25   \n",
       "5              25.22         Weekday       3                     20   \n",
       "7               5.97         Weekday       3                     33   \n",
       "\n",
       "   delivery_time  order_completion_time  \n",
       "2             28                     51  \n",
       "3             15                     40  \n",
       "4             24                     49  \n",
       "5             24                     44  \n",
       "7             30                     63  "
      ]
     },
     "execution_count": 15,
     "metadata": {},
     "output_type": "execute_result"
    }
   ],
   "source": [
    "data_df[\"order_completion_time\"] = data_df[\"food_preparation_time\"] + data_df[\"delivery_time\"]\n",
    "data_df.head()"
   ]
  },
  {
   "cell_type": "markdown",
   "id": "im5OU_JWjOG5",
   "metadata": {
    "id": "im5OU_JWjOG5"
   },
   "source": [
    "We will not check int and float type columns, because we already know that there are no missing values and that the values are already in a specific numeric type"
   ]
  },
  {
   "cell_type": "code",
   "execution_count": 16,
   "id": "mfDFz8bj5CKD",
   "metadata": {
    "executionInfo": {
     "elapsed": 43,
     "status": "ok",
     "timestamp": 1676476993747,
     "user": {
      "displayName": "Victor Abril",
      "userId": "02019151479126081294"
     },
     "user_tz": 300
    },
    "id": "mfDFz8bj5CKD"
   },
   "outputs": [],
   "source": [
    "cleaned_df = data_df.copy()"
   ]
  },
  {
   "cell_type": "markdown",
   "id": "k8z5Molf2n27",
   "metadata": {
    "id": "k8z5Molf2n27"
   },
   "source": [
    "## Analysis of Distribution of Data\n",
    "### We will explore each column individually, providing statistics and observations on their distributions"
   ]
  },
  {
   "cell_type": "markdown",
   "id": "TUX24wXy5q-j",
   "metadata": {
    "id": "TUX24wXy5q-j"
   },
   "source": [
    "#### Analyzing order_id"
   ]
  },
  {
   "cell_type": "code",
   "execution_count": 17,
   "id": "wY02quwc4jrr",
   "metadata": {
    "colab": {
     "base_uri": "https://localhost:8080/"
    },
    "executionInfo": {
     "elapsed": 43,
     "status": "ok",
     "timestamp": 1676476993751,
     "user": {
      "displayName": "Victor Abril",
      "userId": "02019151479126081294"
     },
     "user_tz": 300
    },
    "id": "wY02quwc4jrr",
    "outputId": "48f451c0-4980-48d5-8d65-fd3b03c8293f"
   },
   "outputs": [
    {
     "data": {
      "text/plain": [
       "1162"
      ]
     },
     "execution_count": 17,
     "metadata": {},
     "output_type": "execute_result"
    }
   ],
   "source": [
    "cleaned_df[\"order_id\"].nunique()"
   ]
  },
  {
   "cell_type": "markdown",
   "id": "TicpD4YKOYHN",
   "metadata": {
    "id": "TicpD4YKOYHN"
   },
   "source": [
    "* As expected, there are 1162 number of orders after cleaning the dataset\n",
    "* Approximately 734 orders were removed when cleaning the data "
   ]
  },
  {
   "cell_type": "markdown",
   "id": "zCvYPs-S50tQ",
   "metadata": {
    "id": "zCvYPs-S50tQ"
   },
   "source": [
    "#### Analyzing customer_id"
   ]
  },
  {
   "cell_type": "code",
   "execution_count": 18,
   "id": "Or1fYG8v4joy",
   "metadata": {
    "colab": {
     "base_uri": "https://localhost:8080/"
    },
    "executionInfo": {
     "elapsed": 38,
     "status": "ok",
     "timestamp": 1676476993752,
     "user": {
      "displayName": "Victor Abril",
      "userId": "02019151479126081294"
     },
     "user_tz": 300
    },
    "id": "Or1fYG8v4joy",
    "outputId": "8e86725b-1a05-4c85-a21a-ff50063003ac"
   },
   "outputs": [
    {
     "data": {
      "text/plain": [
       "859"
      ]
     },
     "execution_count": 18,
     "metadata": {},
     "output_type": "execute_result"
    }
   ],
   "source": [
    "cleaned_df[\"customer_id\"].nunique()"
   ]
  },
  {
   "cell_type": "code",
   "execution_count": 19,
   "id": "s8KznD8v7F0c",
   "metadata": {
    "colab": {
     "base_uri": "https://localhost:8080/"
    },
    "executionInfo": {
     "elapsed": 34,
     "status": "ok",
     "timestamp": 1676476993753,
     "user": {
      "displayName": "Victor Abril",
      "userId": "02019151479126081294"
     },
     "user_tz": 300
    },
    "id": "s8KznD8v7F0c",
    "outputId": "ab945ad9-0573-418e-f7d9-2f92b3e020a7"
   },
   "outputs": [
    {
     "data": {
      "text/plain": [
       "47440     7\n",
       "52832     7\n",
       "65009     6\n",
       "250494    6\n",
       "276192    5\n",
       "60052     5\n",
       "259341    5\n",
       "47280     5\n",
       "64153     4\n",
       "78939     4\n",
       "Name: customer_id, dtype: int64"
      ]
     },
     "execution_count": 19,
     "metadata": {},
     "output_type": "execute_result"
    }
   ],
   "source": [
    "a_customer_id = cleaned_df[\"customer_id\"].value_counts()\n",
    "a_customer_id.head(10)\n"
   ]
  },
  {
   "cell_type": "markdown",
   "id": "6C_gEDMv5e7n",
   "metadata": {
    "id": "6C_gEDMv5e7n"
   },
   "source": [
    "* There are 859 unique customers in the dataset out of 1162 orders\n",
    "* The most amount of orders a customer has is 7"
   ]
  },
  {
   "cell_type": "markdown",
   "id": "-zpQpjoB591l",
   "metadata": {
    "id": "-zpQpjoB591l"
   },
   "source": [
    "#### Analyzing restaurant_name"
   ]
  },
  {
   "cell_type": "code",
   "execution_count": 20,
   "id": "Qhvwfpji6JFg",
   "metadata": {
    "colab": {
     "base_uri": "https://localhost:8080/"
    },
    "executionInfo": {
     "elapsed": 29,
     "status": "ok",
     "timestamp": 1676476993753,
     "user": {
      "displayName": "Victor Abril",
      "userId": "02019151479126081294"
     },
     "user_tz": 300
    },
    "id": "Qhvwfpji6JFg",
    "outputId": "8869baa9-8c00-4fb1-f6eb-f40a40c79ab9"
   },
   "outputs": [
    {
     "data": {
      "text/plain": [
       "156"
      ]
     },
     "execution_count": 20,
     "metadata": {},
     "output_type": "execute_result"
    }
   ],
   "source": [
    "cleaned_df[\"restaurant_name\"].nunique()"
   ]
  },
  {
   "cell_type": "code",
   "execution_count": 21,
   "id": "hcb1MU3M9zQ4",
   "metadata": {
    "colab": {
     "base_uri": "https://localhost:8080/",
     "height": 363
    },
    "executionInfo": {
     "elapsed": 25,
     "status": "ok",
     "timestamp": 1676476993754,
     "user": {
      "displayName": "Victor Abril",
      "userId": "02019151479126081294"
     },
     "user_tz": 300
    },
    "id": "hcb1MU3M9zQ4",
    "outputId": "cb789c1e-b1a3-40f9-b7d9-417a39f865c5"
   },
   "outputs": [
    {
     "data": {
      "text/html": [
       "\n",
       "  <div id=\"df-a9d03f48-8fd7-4a33-a9d0-e571afd45328\">\n",
       "    <div class=\"colab-df-container\">\n",
       "      <div>\n",
       "<style scoped>\n",
       "    .dataframe tbody tr th:only-of-type {\n",
       "        vertical-align: middle;\n",
       "    }\n",
       "\n",
       "    .dataframe tbody tr th {\n",
       "        vertical-align: top;\n",
       "    }\n",
       "\n",
       "    .dataframe thead th {\n",
       "        text-align: right;\n",
       "    }\n",
       "</style>\n",
       "<table border=\"1\" class=\"dataframe\">\n",
       "  <thead>\n",
       "    <tr style=\"text-align: right;\">\n",
       "      <th></th>\n",
       "      <th>number_of_orders</th>\n",
       "      <th>percentage</th>\n",
       "    </tr>\n",
       "  </thead>\n",
       "  <tbody>\n",
       "    <tr>\n",
       "      <th>Shake Shack</th>\n",
       "      <td>133</td>\n",
       "      <td>11.445783</td>\n",
       "    </tr>\n",
       "    <tr>\n",
       "      <th>The Meatball Shop</th>\n",
       "      <td>84</td>\n",
       "      <td>7.228916</td>\n",
       "    </tr>\n",
       "    <tr>\n",
       "      <th>Blue Ribbon Sushi</th>\n",
       "      <td>73</td>\n",
       "      <td>6.282272</td>\n",
       "    </tr>\n",
       "    <tr>\n",
       "      <th>Blue Ribbon Fried Chicken</th>\n",
       "      <td>64</td>\n",
       "      <td>5.507745</td>\n",
       "    </tr>\n",
       "    <tr>\n",
       "      <th>RedFarm Broadway</th>\n",
       "      <td>41</td>\n",
       "      <td>3.528399</td>\n",
       "    </tr>\n",
       "    <tr>\n",
       "      <th>Parm</th>\n",
       "      <td>39</td>\n",
       "      <td>3.356282</td>\n",
       "    </tr>\n",
       "    <tr>\n",
       "      <th>RedFarm Hudson</th>\n",
       "      <td>34</td>\n",
       "      <td>2.925990</td>\n",
       "    </tr>\n",
       "    <tr>\n",
       "      <th>TAO</th>\n",
       "      <td>28</td>\n",
       "      <td>2.409639</td>\n",
       "    </tr>\n",
       "    <tr>\n",
       "      <th>Rubirosa</th>\n",
       "      <td>24</td>\n",
       "      <td>2.065404</td>\n",
       "    </tr>\n",
       "    <tr>\n",
       "      <th>Nobu Next Door</th>\n",
       "      <td>23</td>\n",
       "      <td>1.979346</td>\n",
       "    </tr>\n",
       "  </tbody>\n",
       "</table>\n",
       "</div>\n",
       "      <button class=\"colab-df-convert\" onclick=\"convertToInteractive('df-a9d03f48-8fd7-4a33-a9d0-e571afd45328')\"\n",
       "              title=\"Convert this dataframe to an interactive table.\"\n",
       "              style=\"display:none;\">\n",
       "        \n",
       "  <svg xmlns=\"http://www.w3.org/2000/svg\" height=\"24px\"viewBox=\"0 0 24 24\"\n",
       "       width=\"24px\">\n",
       "    <path d=\"M0 0h24v24H0V0z\" fill=\"none\"/>\n",
       "    <path d=\"M18.56 5.44l.94 2.06.94-2.06 2.06-.94-2.06-.94-.94-2.06-.94 2.06-2.06.94zm-11 1L8.5 8.5l.94-2.06 2.06-.94-2.06-.94L8.5 2.5l-.94 2.06-2.06.94zm10 10l.94 2.06.94-2.06 2.06-.94-2.06-.94-.94-2.06-.94 2.06-2.06.94z\"/><path d=\"M17.41 7.96l-1.37-1.37c-.4-.4-.92-.59-1.43-.59-.52 0-1.04.2-1.43.59L10.3 9.45l-7.72 7.72c-.78.78-.78 2.05 0 2.83L4 21.41c.39.39.9.59 1.41.59.51 0 1.02-.2 1.41-.59l7.78-7.78 2.81-2.81c.8-.78.8-2.07 0-2.86zM5.41 20L4 18.59l7.72-7.72 1.47 1.35L5.41 20z\"/>\n",
       "  </svg>\n",
       "      </button>\n",
       "      \n",
       "  <style>\n",
       "    .colab-df-container {\n",
       "      display:flex;\n",
       "      flex-wrap:wrap;\n",
       "      gap: 12px;\n",
       "    }\n",
       "\n",
       "    .colab-df-convert {\n",
       "      background-color: #E8F0FE;\n",
       "      border: none;\n",
       "      border-radius: 50%;\n",
       "      cursor: pointer;\n",
       "      display: none;\n",
       "      fill: #1967D2;\n",
       "      height: 32px;\n",
       "      padding: 0 0 0 0;\n",
       "      width: 32px;\n",
       "    }\n",
       "\n",
       "    .colab-df-convert:hover {\n",
       "      background-color: #E2EBFA;\n",
       "      box-shadow: 0px 1px 2px rgba(60, 64, 67, 0.3), 0px 1px 3px 1px rgba(60, 64, 67, 0.15);\n",
       "      fill: #174EA6;\n",
       "    }\n",
       "\n",
       "    [theme=dark] .colab-df-convert {\n",
       "      background-color: #3B4455;\n",
       "      fill: #D2E3FC;\n",
       "    }\n",
       "\n",
       "    [theme=dark] .colab-df-convert:hover {\n",
       "      background-color: #434B5C;\n",
       "      box-shadow: 0px 1px 3px 1px rgba(0, 0, 0, 0.15);\n",
       "      filter: drop-shadow(0px 1px 2px rgba(0, 0, 0, 0.3));\n",
       "      fill: #FFFFFF;\n",
       "    }\n",
       "  </style>\n",
       "\n",
       "      <script>\n",
       "        const buttonEl =\n",
       "          document.querySelector('#df-a9d03f48-8fd7-4a33-a9d0-e571afd45328 button.colab-df-convert');\n",
       "        buttonEl.style.display =\n",
       "          google.colab.kernel.accessAllowed ? 'block' : 'none';\n",
       "\n",
       "        async function convertToInteractive(key) {\n",
       "          const element = document.querySelector('#df-a9d03f48-8fd7-4a33-a9d0-e571afd45328');\n",
       "          const dataTable =\n",
       "            await google.colab.kernel.invokeFunction('convertToInteractive',\n",
       "                                                     [key], {});\n",
       "          if (!dataTable) return;\n",
       "\n",
       "          const docLinkHtml = 'Like what you see? Visit the ' +\n",
       "            '<a target=\"_blank\" href=https://colab.research.google.com/notebooks/data_table.ipynb>data table notebook</a>'\n",
       "            + ' to learn more about interactive tables.';\n",
       "          element.innerHTML = '';\n",
       "          dataTable['output_type'] = 'display_data';\n",
       "          await google.colab.output.renderOutput(dataTable, element);\n",
       "          const docLink = document.createElement('div');\n",
       "          docLink.innerHTML = docLinkHtml;\n",
       "          element.appendChild(docLink);\n",
       "        }\n",
       "      </script>\n",
       "    </div>\n",
       "  </div>\n",
       "  "
      ],
      "text/plain": [
       "                           number_of_orders  percentage\n",
       "Shake Shack                             133   11.445783\n",
       "The Meatball Shop                        84    7.228916\n",
       "Blue Ribbon Sushi                        73    6.282272\n",
       "Blue Ribbon Fried Chicken                64    5.507745\n",
       "RedFarm Broadway                         41    3.528399\n",
       "Parm                                     39    3.356282\n",
       "RedFarm Hudson                           34    2.925990\n",
       "TAO                                      28    2.409639\n",
       "Rubirosa                                 24    2.065404\n",
       "Nobu Next Door                           23    1.979346"
      ]
     },
     "execution_count": 21,
     "metadata": {},
     "output_type": "execute_result"
    }
   ],
   "source": [
    "a_res_name = pd.concat([cleaned_df[\"restaurant_name\"].value_counts().rename(\"number_of_orders\"), \n",
    "               cleaned_df[\"restaurant_name\"].value_counts(normalize=True).rename(\"percentage\")*100],\n",
    "              axis =1)\n",
    "a_res_name.head(10)"
   ]
  },
  {
   "cell_type": "markdown",
   "id": "xjbecrnC-lh2",
   "metadata": {
    "id": "xjbecrnC-lh2"
   },
   "source": [
    "Since there are 156 unique restaurants, let's only plot the top 10 restaurants with highest number of orders"
   ]
  },
  {
   "cell_type": "code",
   "execution_count": 22,
   "id": "PreDnTAvFwC_",
   "metadata": {
    "colab": {
     "base_uri": "https://localhost:8080/",
     "height": 419
    },
    "executionInfo": {
     "elapsed": 301,
     "status": "ok",
     "timestamp": 1676476994033,
     "user": {
      "displayName": "Victor Abril",
      "userId": "02019151479126081294"
     },
     "user_tz": 300
    },
    "id": "PreDnTAvFwC_",
    "outputId": "71459baf-e113-45ba-9398-cabb4da30792"
   },
   "outputs": [
    {
     "data": {
      "text/plain": [
       "Text(0.5, 1.0, 'Top 10 Restaurants')"
      ]
     },
     "execution_count": 22,
     "metadata": {},
     "output_type": "execute_result"
    },
    {
     "data": {
      "image/png": "[encoded data removed]",
      "text/plain": [
       "<Figure size 432x288 with 1 Axes>"
      ]
     },
     "metadata": {
      "needs_background": "light"
     },
     "output_type": "display_data"
    }
   ],
   "source": [
    "res_name_graph = a_res_name.head(10)\n",
    "res_name_graph.plot(kind = \"bar\", y = \"number_of_orders\", legend =None)\n",
    "plt.ylabel(\"Number of Orders\")\n",
    "plt.title(\"Top 10 Restaurants\")"
   ]
  },
  {
   "cell_type": "code",
   "execution_count": 23,
   "id": "3ECexU2KBXkD",
   "metadata": {
    "colab": {
     "base_uri": "https://localhost:8080/"
    },
    "executionInfo": {
     "elapsed": 40,
     "status": "ok",
     "timestamp": 1676476994034,
     "user": {
      "displayName": "Victor Abril",
      "userId": "02019151479126081294"
     },
     "user_tz": 300
    },
    "id": "3ECexU2KBXkD",
    "outputId": "5cad7b51-bdd6-4945-b46f-257dfaa650da"
   },
   "outputs": [
    {
     "data": {
      "text/plain": [
       "46.72977624784854"
      ]
     },
     "execution_count": 23,
     "metadata": {},
     "output_type": "execute_result"
    }
   ],
   "source": [
    "res_name_graph[\"percentage\"].sum()"
   ]
  },
  {
   "cell_type": "markdown",
   "id": "Nlp3xRUi6fn6",
   "metadata": {
    "id": "Nlp3xRUi6fn6"
   },
   "source": [
    "* There are 156 unique restaurants in the dataset\n",
    "* Shake Shack has the highest number of orders (133) and covers about 11.5% of the dataset\n",
    "* The Meatball Shop comes at 2nd highest number of orders (84) and covering 72% of the dataset\n",
    "* The Blue Ribbon Sushi comes at 3rd highest number of orders (73) and covering 6.3% of the dataset\n",
    "* The top 10 restaurants cover about 47% of the total number of orders in the whole dataset implying that the distribution of our data is skewed\n"
   ]
  },
  {
   "cell_type": "markdown",
   "id": "ZQkYrLXN-0lv",
   "metadata": {
    "id": "ZQkYrLXN-0lv"
   },
   "source": [
    "#### Analyzing cuisine_type"
   ]
  },
  {
   "cell_type": "code",
   "execution_count": 24,
   "id": "zupD21oP6fWW",
   "metadata": {
    "colab": {
     "base_uri": "https://localhost:8080/",
     "height": 488
    },
    "executionInfo": {
     "elapsed": 36,
     "status": "ok",
     "timestamp": 1676476994035,
     "user": {
      "displayName": "Victor Abril",
      "userId": "02019151479126081294"
     },
     "user_tz": 300
    },
    "id": "zupD21oP6fWW",
    "outputId": "84386a08-0f5f-4ee7-858c-850a27b98ccd"
   },
   "outputs": [
    {
     "data": {
      "text/html": [
       "\n",
       "  <div id=\"df-4986e6b0-a199-45ff-b374-4fbb63f51990\">\n",
       "    <div class=\"colab-df-container\">\n",
       "      <div>\n",
       "<style scoped>\n",
       "    .dataframe tbody tr th:only-of-type {\n",
       "        vertical-align: middle;\n",
       "    }\n",
       "\n",
       "    .dataframe tbody tr th {\n",
       "        vertical-align: top;\n",
       "    }\n",
       "\n",
       "    .dataframe thead th {\n",
       "        text-align: right;\n",
       "    }\n",
       "</style>\n",
       "<table border=\"1\" class=\"dataframe\">\n",
       "  <thead>\n",
       "    <tr style=\"text-align: right;\">\n",
       "      <th></th>\n",
       "      <th>number_of_orders</th>\n",
       "      <th>percentage</th>\n",
       "    </tr>\n",
       "  </thead>\n",
       "  <tbody>\n",
       "    <tr>\n",
       "      <th>American</th>\n",
       "      <td>368</td>\n",
       "      <td>31.669535</td>\n",
       "    </tr>\n",
       "    <tr>\n",
       "      <th>Japanese</th>\n",
       "      <td>273</td>\n",
       "      <td>23.493976</td>\n",
       "    </tr>\n",
       "    <tr>\n",
       "      <th>Italian</th>\n",
       "      <td>172</td>\n",
       "      <td>14.802065</td>\n",
       "    </tr>\n",
       "    <tr>\n",
       "      <th>Chinese</th>\n",
       "      <td>133</td>\n",
       "      <td>11.445783</td>\n",
       "    </tr>\n",
       "    <tr>\n",
       "      <th>Indian</th>\n",
       "      <td>50</td>\n",
       "      <td>4.302926</td>\n",
       "    </tr>\n",
       "    <tr>\n",
       "      <th>Mexican</th>\n",
       "      <td>48</td>\n",
       "      <td>4.130809</td>\n",
       "    </tr>\n",
       "    <tr>\n",
       "      <th>Middle Eastern</th>\n",
       "      <td>34</td>\n",
       "      <td>2.925990</td>\n",
       "    </tr>\n",
       "    <tr>\n",
       "      <th>Mediterranean</th>\n",
       "      <td>32</td>\n",
       "      <td>2.753873</td>\n",
       "    </tr>\n",
       "    <tr>\n",
       "      <th>Southern</th>\n",
       "      <td>13</td>\n",
       "      <td>1.118761</td>\n",
       "    </tr>\n",
       "    <tr>\n",
       "      <th>French</th>\n",
       "      <td>10</td>\n",
       "      <td>0.860585</td>\n",
       "    </tr>\n",
       "    <tr>\n",
       "      <th>Thai</th>\n",
       "      <td>9</td>\n",
       "      <td>0.774527</td>\n",
       "    </tr>\n",
       "    <tr>\n",
       "      <th>Korean</th>\n",
       "      <td>9</td>\n",
       "      <td>0.774527</td>\n",
       "    </tr>\n",
       "    <tr>\n",
       "      <th>Spanish</th>\n",
       "      <td>6</td>\n",
       "      <td>0.516351</td>\n",
       "    </tr>\n",
       "    <tr>\n",
       "      <th>Vietnamese</th>\n",
       "      <td>5</td>\n",
       "      <td>0.430293</td>\n",
       "    </tr>\n",
       "  </tbody>\n",
       "</table>\n",
       "</div>\n",
       "      <button class=\"colab-df-convert\" onclick=\"convertToInteractive('df-4986e6b0-a199-45ff-b374-4fbb63f51990')\"\n",
       "              title=\"Convert this dataframe to an interactive table.\"\n",
       "              style=\"display:none;\">\n",
       "        \n",
       "  <svg xmlns=\"http://www.w3.org/2000/svg\" height=\"24px\"viewBox=\"0 0 24 24\"\n",
       "       width=\"24px\">\n",
       "    <path d=\"M0 0h24v24H0V0z\" fill=\"none\"/>\n",
       "    <path d=\"M18.56 5.44l.94 2.06.94-2.06 2.06-.94-2.06-.94-.94-2.06-.94 2.06-2.06.94zm-11 1L8.5 8.5l.94-2.06 2.06-.94-2.06-.94L8.5 2.5l-.94 2.06-2.06.94zm10 10l.94 2.06.94-2.06 2.06-.94-2.06-.94-.94-2.06-.94 2.06-2.06.94z\"/><path d=\"M17.41 7.96l-1.37-1.37c-.4-.4-.92-.59-1.43-.59-.52 0-1.04.2-1.43.59L10.3 9.45l-7.72 7.72c-.78.78-.78 2.05 0 2.83L4 21.41c.39.39.9.59 1.41.59.51 0 1.02-.2 1.41-.59l7.78-7.78 2.81-2.81c.8-.78.8-2.07 0-2.86zM5.41 20L4 18.59l7.72-7.72 1.47 1.35L5.41 20z\"/>\n",
       "  </svg>\n",
       "      </button>\n",
       "      \n",
       "  <style>\n",
       "    .colab-df-container {\n",
       "      display:flex;\n",
       "      flex-wrap:wrap;\n",
       "      gap: 12px;\n",
       "    }\n",
       "\n",
       "    .colab-df-convert {\n",
       "      background-color: #E8F0FE;\n",
       "      border: none;\n",
       "      border-radius: 50%;\n",
       "      cursor: pointer;\n",
       "      display: none;\n",
       "      fill: #1967D2;\n",
       "      height: 32px;\n",
       "      padding: 0 0 0 0;\n",
       "      width: 32px;\n",
       "    }\n",
       "\n",
       "    .colab-df-convert:hover {\n",
       "      background-color: #E2EBFA;\n",
       "      box-shadow: 0px 1px 2px rgba(60, 64, 67, 0.3), 0px 1px 3px 1px rgba(60, 64, 67, 0.15);\n",
       "      fill: #174EA6;\n",
       "    }\n",
       "\n",
       "    [theme=dark] .colab-df-convert {\n",
       "      background-color: #3B4455;\n",
       "      fill: #D2E3FC;\n",
       "    }\n",
       "\n",
       "    [theme=dark] .colab-df-convert:hover {\n",
       "      background-color: #434B5C;\n",
       "      box-shadow: 0px 1px 3px 1px rgba(0, 0, 0, 0.15);\n",
       "      filter: drop-shadow(0px 1px 2px rgba(0, 0, 0, 0.3));\n",
       "      fill: #FFFFFF;\n",
       "    }\n",
       "  </style>\n",
       "\n",
       "      <script>\n",
       "        const buttonEl =\n",
       "          document.querySelector('#df-4986e6b0-a199-45ff-b374-4fbb63f51990 button.colab-df-convert');\n",
       "        buttonEl.style.display =\n",
       "          google.colab.kernel.accessAllowed ? 'block' : 'none';\n",
       "\n",
       "        async function convertToInteractive(key) {\n",
       "          const element = document.querySelector('#df-4986e6b0-a199-45ff-b374-4fbb63f51990');\n",
       "          const dataTable =\n",
       "            await google.colab.kernel.invokeFunction('convertToInteractive',\n",
       "                                                     [key], {});\n",
       "          if (!dataTable) return;\n",
       "\n",
       "          const docLinkHtml = 'Like what you see? Visit the ' +\n",
       "            '<a target=\"_blank\" href=https://colab.research.google.com/notebooks/data_table.ipynb>data table notebook</a>'\n",
       "            + ' to learn more about interactive tables.';\n",
       "          element.innerHTML = '';\n",
       "          dataTable['output_type'] = 'display_data';\n",
       "          await google.colab.output.renderOutput(dataTable, element);\n",
       "          const docLink = document.createElement('div');\n",
       "          docLink.innerHTML = docLinkHtml;\n",
       "          element.appendChild(docLink);\n",
       "        }\n",
       "      </script>\n",
       "    </div>\n",
       "  </div>\n",
       "  "
      ],
      "text/plain": [
       "                number_of_orders  percentage\n",
       "American                     368   31.669535\n",
       "Japanese                     273   23.493976\n",
       "Italian                      172   14.802065\n",
       "Chinese                      133   11.445783\n",
       "Indian                        50    4.302926\n",
       "Mexican                       48    4.130809\n",
       "Middle Eastern                34    2.925990\n",
       "Mediterranean                 32    2.753873\n",
       "Southern                      13    1.118761\n",
       "French                        10    0.860585\n",
       "Thai                           9    0.774527\n",
       "Korean                         9    0.774527\n",
       "Spanish                        6    0.516351\n",
       "Vietnamese                     5    0.430293"
      ]
     },
     "execution_count": 24,
     "metadata": {},
     "output_type": "execute_result"
    }
   ],
   "source": [
    "a_cuisine = pd.concat([cleaned_df[\"cuisine_type\"].value_counts().rename(\"number_of_orders\"), \n",
    "               cleaned_df[\"cuisine_type\"].value_counts(normalize=True).rename(\"percentage\")*100],\n",
    "              axis =1)\n",
    "a_cuisine"
   ]
  },
  {
   "cell_type": "code",
   "execution_count": 25,
   "id": "7JgrDOorHiXY",
   "metadata": {
    "colab": {
     "base_uri": "https://localhost:8080/",
     "height": 363
    },
    "executionInfo": {
     "elapsed": 463,
     "status": "ok",
     "timestamp": 1676476994463,
     "user": {
      "displayName": "Victor Abril",
      "userId": "02019151479126081294"
     },
     "user_tz": 300
    },
    "id": "7JgrDOorHiXY",
    "outputId": "f9129903-e673-412c-eebf-12f8afa04c5a"
   },
   "outputs": [
    {
     "data": {
      "text/plain": [
       "Text(0.5, 1.0, 'Cuisine Types')"
      ]
     },
     "execution_count": 25,
     "metadata": {},
     "output_type": "execute_result"
    },
    {
     "data": {
      "image/png": "[encoded data removed]",
      "text/plain": [
       "<Figure size 432x288 with 1 Axes>"
      ]
     },
     "metadata": {
      "needs_background": "light"
     },
     "output_type": "display_data"
    }
   ],
   "source": [
    "a_cuisine.plot(kind = \"bar\", y = \"number_of_orders\", legend =None)\n",
    "plt.ylabel(\"Number of Orders\")\n",
    "plt.title(\"Cuisine Types\")"
   ]
  },
  {
   "cell_type": "code",
   "execution_count": 26,
   "id": "wMqiAVqnCWJl",
   "metadata": {
    "colab": {
     "base_uri": "https://localhost:8080/"
    },
    "executionInfo": {
     "elapsed": 163,
     "status": "ok",
     "timestamp": 1676476994463,
     "user": {
      "displayName": "Victor Abril",
      "userId": "02019151479126081294"
     },
     "user_tz": 300
    },
    "id": "wMqiAVqnCWJl",
    "outputId": "bae8f9d7-087e-4d3d-b700-c0d213112621"
   },
   "outputs": [
    {
     "data": {
      "text/plain": [
       "number_of_orders    946.00000\n",
       "percentage           81.41136\n",
       "dtype: float64"
      ]
     },
     "execution_count": 26,
     "metadata": {},
     "output_type": "execute_result"
    }
   ],
   "source": [
    "a_cuisine.iloc[:4, :].sum()"
   ]
  },
  {
   "cell_type": "markdown",
   "id": "dEjdDut_CEsr",
   "metadata": {
    "id": "dEjdDut_CEsr"
   },
   "source": [
    "* The top 3 cuisines with the highest number if orders are:\n",
    "  * American (30.7%) is the most ordered\n",
    "  * Japenese (24.7%) is the 2nd most ordered \n",
    "  * Italian (15.7%) is the 3rd most ordered \n",
    "* The least orderd cuisine is Vietnamese (0.3%)\n",
    "* The top 4 cuisine types of our data hold approximately 81% of the total number of orders implying that the distribution of our data is skewed"
   ]
  },
  {
   "cell_type": "markdown",
   "id": "wcYHjhwvC3e5",
   "metadata": {
    "id": "wcYHjhwvC3e5"
   },
   "source": [
    "#### Analyzing cost_of_the_order"
   ]
  },
  {
   "cell_type": "code",
   "execution_count": 27,
   "id": "9KgDbPkaC3QX",
   "metadata": {
    "colab": {
     "base_uri": "https://localhost:8080/",
     "height": 312
    },
    "executionInfo": {
     "elapsed": 788,
     "status": "ok",
     "timestamp": 1676476995190,
     "user": {
      "displayName": "Victor Abril",
      "userId": "02019151479126081294"
     },
     "user_tz": 300
    },
    "id": "9KgDbPkaC3QX",
    "outputId": "45ee38f1-7256-47f2-8fc5-68964265b0b1"
   },
   "outputs": [
    {
     "data": {
      "text/plain": [
       "Text(0.5, 1.0, 'Distribution of Cost of the Orders')"
      ]
     },
     "execution_count": 27,
     "metadata": {},
     "output_type": "execute_result"
    },
    {
     "data": {
      "image/png": "[encoded data removed]",
      "text/plain": [
       "<Figure size 432x288 with 1 Axes>"
      ]
     },
     "metadata": {
      "needs_background": "light"
     },
     "output_type": "display_data"
    }
   ],
   "source": [
    "cleaned_df[\"cost_of_the_order\"].hist(bins = 15, edgecolor = \"black\", grid = False)\n",
    "plt.xlabel(\" cost of orders\")\n",
    "plt.ylabel(\"number of orders\")\n",
    "plt.title(\"Distribution of Cost of the Orders\")"
   ]
  },
  {
   "cell_type": "code",
   "execution_count": 28,
   "id": "FUMuaICKEv0C",
   "metadata": {
    "colab": {
     "base_uri": "https://localhost:8080/",
     "height": 312
    },
    "executionInfo": {
     "elapsed": 68,
     "status": "ok",
     "timestamp": 1676476995191,
     "user": {
      "displayName": "Victor Abril",
      "userId": "02019151479126081294"
     },
     "user_tz": 300
    },
    "id": "FUMuaICKEv0C",
    "outputId": "80387353-8f69-49d8-abf9-52117e481313"
   },
   "outputs": [
    {
     "data": {
      "text/plain": [
       "Text(0.5, 1.0, 'Boxplot of Cost of Order')"
      ]
     },
     "execution_count": 28,
     "metadata": {},
     "output_type": "execute_result"
    },
    {
     "data": {
      "image/png": "[encoded data removed]",
      "text/plain": [
       "<Figure size 432x288 with 1 Axes>"
      ]
     },
     "metadata": {
      "needs_background": "light"
     },
     "output_type": "display_data"
    }
   ],
   "source": [
    "cleaned_df.boxplot(column = [\"cost_of_the_order\"], vert=False)\n",
    "plt.xlabel(\"Cost of Order\")\n",
    "plt.yticks([])\n",
    "plt.title(\"Boxplot of Cost of Order\")"
   ]
  },
  {
   "cell_type": "code",
   "execution_count": 29,
   "id": "TNY9aKhm4jiu",
   "metadata": {
    "colab": {
     "base_uri": "https://localhost:8080/"
    },
    "executionInfo": {
     "elapsed": 55,
     "status": "ok",
     "timestamp": 1676476995192,
     "user": {
      "displayName": "Victor Abril",
      "userId": "02019151479126081294"
     },
     "user_tz": 300
    },
    "id": "TNY9aKhm4jiu",
    "outputId": "ea89e775-56e8-4cbf-87ae-d67ef308d67e"
   },
   "outputs": [
    {
     "data": {
      "text/plain": [
       "count    1162.000000\n",
       "mean       16.760766\n",
       "std         7.572578\n",
       "min         4.470000\n",
       "25%        12.130000\n",
       "50%        14.600000\n",
       "75%        22.750000\n",
       "max        35.410000\n",
       "Name: cost_of_the_order, dtype: float64"
      ]
     },
     "execution_count": 29,
     "metadata": {},
     "output_type": "execute_result"
    }
   ],
   "source": [
    "cleaned_df[\"cost_of_the_order\"].describe()"
   ]
  },
  {
   "cell_type": "markdown",
   "id": "-6cAYkwOIWEt",
   "metadata": {
    "id": "-6cAYkwOIWEt"
   },
   "source": [
    "* The data appears to be consistent, meaning no anomalies or outliers\n",
    "* The histogram and boxplot indicate skewness towards right.\n",
    "* The median order cost is approximately 14 dollars, while the mean is at 16.80 dollars.\n",
    "* The minimum order cost is approximately 4.50 dollars\n",
    "* The maximum order cost is approximately 35.40  dollars\n",
    "* Since the cost is skewed to the right, it is visible that majority of the customers are conservative and make orders less than or equal to $20\n"
   ]
  },
  {
   "cell_type": "markdown",
   "id": "D_2BV3t3Iq03",
   "metadata": {
    "id": "D_2BV3t3Iq03"
   },
   "source": [
    "#### Analyzing day_of_the_week"
   ]
  },
  {
   "cell_type": "code",
   "execution_count": 30,
   "id": "x8oVhHQL4jf8",
   "metadata": {
    "colab": {
     "base_uri": "https://localhost:8080/",
     "height": 112
    },
    "executionInfo": {
     "elapsed": 53,
     "status": "ok",
     "timestamp": 1676476995193,
     "user": {
      "displayName": "Victor Abril",
      "userId": "02019151479126081294"
     },
     "user_tz": 300
    },
    "id": "x8oVhHQL4jf8",
    "outputId": "8906a6c7-637d-473d-f68e-7a26c0d53d9d"
   },
   "outputs": [
    {
     "data": {
      "text/html": [
       "\n",
       "  <div id=\"df-8ab00d9a-2545-4b00-84cd-1d91c41efa03\">\n",
       "    <div class=\"colab-df-container\">\n",
       "      <div>\n",
       "<style scoped>\n",
       "    .dataframe tbody tr th:only-of-type {\n",
       "        vertical-align: middle;\n",
       "    }\n",
       "\n",
       "    .dataframe tbody tr th {\n",
       "        vertical-align: top;\n",
       "    }\n",
       "\n",
       "    .dataframe thead th {\n",
       "        text-align: right;\n",
       "    }\n",
       "</style>\n",
       "<table border=\"1\" class=\"dataframe\">\n",
       "  <thead>\n",
       "    <tr style=\"text-align: right;\">\n",
       "      <th></th>\n",
       "      <th>number_of_orders</th>\n",
       "      <th>percentage</th>\n",
       "    </tr>\n",
       "  </thead>\n",
       "  <tbody>\n",
       "    <tr>\n",
       "      <th>Weekend</th>\n",
       "      <td>822</td>\n",
       "      <td>70.740103</td>\n",
       "    </tr>\n",
       "    <tr>\n",
       "      <th>Weekday</th>\n",
       "      <td>340</td>\n",
       "      <td>29.259897</td>\n",
       "    </tr>\n",
       "  </tbody>\n",
       "</table>\n",
       "</div>\n",
       "      <button class=\"colab-df-convert\" onclick=\"convertToInteractive('df-8ab00d9a-2545-4b00-84cd-1d91c41efa03')\"\n",
       "              title=\"Convert this dataframe to an interactive table.\"\n",
       "              style=\"display:none;\">\n",
       "        \n",
       "  <svg xmlns=\"http://www.w3.org/2000/svg\" height=\"24px\"viewBox=\"0 0 24 24\"\n",
       "       width=\"24px\">\n",
       "    <path d=\"M0 0h24v24H0V0z\" fill=\"none\"/>\n",
       "    <path d=\"M18.56 5.44l.94 2.06.94-2.06 2.06-.94-2.06-.94-.94-2.06-.94 2.06-2.06.94zm-11 1L8.5 8.5l.94-2.06 2.06-.94-2.06-.94L8.5 2.5l-.94 2.06-2.06.94zm10 10l.94 2.06.94-2.06 2.06-.94-2.06-.94-.94-2.06-.94 2.06-2.06.94z\"/><path d=\"M17.41 7.96l-1.37-1.37c-.4-.4-.92-.59-1.43-.59-.52 0-1.04.2-1.43.59L10.3 9.45l-7.72 7.72c-.78.78-.78 2.05 0 2.83L4 21.41c.39.39.9.59 1.41.59.51 0 1.02-.2 1.41-.59l7.78-7.78 2.81-2.81c.8-.78.8-2.07 0-2.86zM5.41 20L4 18.59l7.72-7.72 1.47 1.35L5.41 20z\"/>\n",
       "  </svg>\n",
       "      </button>\n",
       "      \n",
       "  <style>\n",
       "    .colab-df-container {\n",
       "      display:flex;\n",
       "      flex-wrap:wrap;\n",
       "      gap: 12px;\n",
       "    }\n",
       "\n",
       "    .colab-df-convert {\n",
       "      background-color: #E8F0FE;\n",
       "      border: none;\n",
       "      border-radius: 50%;\n",
       "      cursor: pointer;\n",
       "      display: none;\n",
       "      fill: #1967D2;\n",
       "      height: 32px;\n",
       "      padding: 0 0 0 0;\n",
       "      width: 32px;\n",
       "    }\n",
       "\n",
       "    .colab-df-convert:hover {\n",
       "      background-color: #E2EBFA;\n",
       "      box-shadow: 0px 1px 2px rgba(60, 64, 67, 0.3), 0px 1px 3px 1px rgba(60, 64, 67, 0.15);\n",
       "      fill: #174EA6;\n",
       "    }\n",
       "\n",
       "    [theme=dark] .colab-df-convert {\n",
       "      background-color: #3B4455;\n",
       "      fill: #D2E3FC;\n",
       "    }\n",
       "\n",
       "    [theme=dark] .colab-df-convert:hover {\n",
       "      background-color: #434B5C;\n",
       "      box-shadow: 0px 1px 3px 1px rgba(0, 0, 0, 0.15);\n",
       "      filter: drop-shadow(0px 1px 2px rgba(0, 0, 0, 0.3));\n",
       "      fill: #FFFFFF;\n",
       "    }\n",
       "  </style>\n",
       "\n",
       "      <script>\n",
       "        const buttonEl =\n",
       "          document.querySelector('#df-8ab00d9a-2545-4b00-84cd-1d91c41efa03 button.colab-df-convert');\n",
       "        buttonEl.style.display =\n",
       "          google.colab.kernel.accessAllowed ? 'block' : 'none';\n",
       "\n",
       "        async function convertToInteractive(key) {\n",
       "          const element = document.querySelector('#df-8ab00d9a-2545-4b00-84cd-1d91c41efa03');\n",
       "          const dataTable =\n",
       "            await google.colab.kernel.invokeFunction('convertToInteractive',\n",
       "                                                     [key], {});\n",
       "          if (!dataTable) return;\n",
       "\n",
       "          const docLinkHtml = 'Like what you see? Visit the ' +\n",
       "            '<a target=\"_blank\" href=https://colab.research.google.com/notebooks/data_table.ipynb>data table notebook</a>'\n",
       "            + ' to learn more about interactive tables.';\n",
       "          element.innerHTML = '';\n",
       "          dataTable['output_type'] = 'display_data';\n",
       "          await google.colab.output.renderOutput(dataTable, element);\n",
       "          const docLink = document.createElement('div');\n",
       "          docLink.innerHTML = docLinkHtml;\n",
       "          element.appendChild(docLink);\n",
       "        }\n",
       "      </script>\n",
       "    </div>\n",
       "  </div>\n",
       "  "
      ],
      "text/plain": [
       "         number_of_orders  percentage\n",
       "Weekend               822   70.740103\n",
       "Weekday               340   29.259897"
      ]
     },
     "execution_count": 30,
     "metadata": {},
     "output_type": "execute_result"
    }
   ],
   "source": [
    "a_week = pd.concat([cleaned_df[\"day_of_the_week\"].value_counts().rename(\"number_of_orders\"), \n",
    "               cleaned_df[\"day_of_the_week\"].value_counts(normalize=True).rename(\"percentage\")*100],\n",
    "              axis =1)\n",
    "a_week"
   ]
  },
  {
   "cell_type": "markdown",
   "id": "GCy93NvsJgxe",
   "metadata": {
    "id": "GCy93NvsJgxe"
   },
   "source": [
    "* There are almost 71% orders on weekend and almost 29% orders on weekdays\n",
    "* We can observe that either the majority of customers choose to order food on the weekends or the dataset we obtained is biased"
   ]
  },
  {
   "cell_type": "markdown",
   "id": "vKGQQ5aOSL4Y",
   "metadata": {
    "id": "vKGQQ5aOSL4Y"
   },
   "source": [
    "### Analyzing rating"
   ]
  },
  {
   "cell_type": "code",
   "execution_count": 31,
   "id": "qPjSunqkJfz9",
   "metadata": {
    "colab": {
     "base_uri": "https://localhost:8080/",
     "height": 312
    },
    "executionInfo": {
     "elapsed": 52,
     "status": "ok",
     "timestamp": 1676476995193,
     "user": {
      "displayName": "Victor Abril",
      "userId": "02019151479126081294"
     },
     "user_tz": 300
    },
    "id": "qPjSunqkJfz9",
    "outputId": "7d4e94a8-f68a-4e86-c28e-5b1c98b02624"
   },
   "outputs": [
    {
     "data": {
      "text/plain": [
       "Text(0.5, 1.0, 'Distribution of Rating')"
      ]
     },
     "execution_count": 31,
     "metadata": {},
     "output_type": "execute_result"
    },
    {
     "data": {
      "image/png": "[encoded data removed]",
      "text/plain": [
       "<Figure size 432x288 with 1 Axes>"
      ]
     },
     "metadata": {
      "needs_background": "light"
     },
     "output_type": "display_data"
    }
   ],
   "source": [
    "cleaned_df[\"rating\"].hist(bins = 10, edgecolor = \"black\", grid = False)\n",
    "plt.xlabel(\"Order Rating\")\n",
    "plt.ylabel(\"Number of Orders\")\n",
    "plt.title(\"Distribution of Rating\")"
   ]
  },
  {
   "cell_type": "code",
   "execution_count": 32,
   "id": "qsF0-vDH4jc-",
   "metadata": {
    "colab": {
     "base_uri": "https://localhost:8080/",
     "height": 312
    },
    "executionInfo": {
     "elapsed": 39,
     "status": "ok",
     "timestamp": 1676476995194,
     "user": {
      "displayName": "Victor Abril",
      "userId": "02019151479126081294"
     },
     "user_tz": 300
    },
    "id": "qsF0-vDH4jc-",
    "outputId": "5e9e6fbe-8438-4afe-9e66-ace4dd909788"
   },
   "outputs": [
    {
     "data": {
      "text/plain": [
       "Text(0.5, 1.0, 'Boxplot of Order Rating')"
      ]
     },
     "execution_count": 32,
     "metadata": {},
     "output_type": "execute_result"
    },
    {
     "data": {
      "image/png": "[encoded data removed]",
      "text/plain": [
       "<Figure size 432x288 with 1 Axes>"
      ]
     },
     "metadata": {
      "needs_background": "light"
     },
     "output_type": "display_data"
    }
   ],
   "source": [
    "cleaned_df.boxplot(column = [\"rating\"], vert=False)\n",
    "plt.xlabel(\"Order Rating\")\n",
    "plt.yticks([])\n",
    "plt.title(\"Boxplot of Order Rating\")"
   ]
  },
  {
   "cell_type": "code",
   "execution_count": 33,
   "id": "I8xaWpJM4jZr",
   "metadata": {
    "colab": {
     "base_uri": "https://localhost:8080/"
    },
    "executionInfo": {
     "elapsed": 37,
     "status": "ok",
     "timestamp": 1676476995195,
     "user": {
      "displayName": "Victor Abril",
      "userId": "02019151479126081294"
     },
     "user_tz": 300
    },
    "id": "I8xaWpJM4jZr",
    "outputId": "a15f0242-6b19-413a-86ef-ddf3fd7b6f87"
   },
   "outputs": [
    {
     "data": {
      "text/plain": [
       "count    1162.000000\n",
       "mean        4.344234\n",
       "std         0.741478\n",
       "min         3.000000\n",
       "25%         4.000000\n",
       "50%         5.000000\n",
       "75%         5.000000\n",
       "max         5.000000\n",
       "Name: rating, dtype: float64"
      ]
     },
     "execution_count": 33,
     "metadata": {},
     "output_type": "execute_result"
    }
   ],
   "source": [
    "cleaned_df[\"rating\"].describe()"
   ]
  },
  {
   "cell_type": "markdown",
   "id": "sAduMKa-T2uc",
   "metadata": {
    "id": "sAduMKa-T2uc"
   },
   "source": [
    "* Since the data was converted into numeric from categorical, we can see that the distribution is not continuous\n",
    "* The data appears to be consistent, meaning no anomalies or outliers.\n",
    "* 75% of the order ratings are between 4 and 5, with mean = 4.35\n",
    "* The minimum rating is 3\n",
    "* The maximum rating is 5\n"
   ]
  },
  {
   "cell_type": "markdown",
   "id": "eyBiD8TmUdhM",
   "metadata": {
    "id": "eyBiD8TmUdhM"
   },
   "source": [
    "### Analyzing order_completion_time"
   ]
  },
  {
   "cell_type": "code",
   "execution_count": 34,
   "id": "JpLzJkLCUwx8",
   "metadata": {
    "colab": {
     "base_uri": "https://localhost:8080/",
     "height": 312
    },
    "executionInfo": {
     "elapsed": 34,
     "status": "ok",
     "timestamp": 1676476995195,
     "user": {
      "displayName": "Victor Abril",
      "userId": "02019151479126081294"
     },
     "user_tz": 300
    },
    "id": "JpLzJkLCUwx8",
    "outputId": "b245deea-0c6f-4923-d2b1-06fa28dc9964"
   },
   "outputs": [
    {
     "data": {
      "text/plain": [
       "Text(0.5, 1.0, 'Distribution of Order Completion Time')"
      ]
     },
     "execution_count": 34,
     "metadata": {},
     "output_type": "execute_result"
    },
    {
     "data": {
      "image/png": "[encoded data removed]",
      "text/plain": [
       "<Figure size 432x288 with 1 Axes>"
      ]
     },
     "metadata": {
      "needs_background": "light"
     },
     "output_type": "display_data"
    }
   ],
   "source": [
    "cleaned_df[\"order_completion_time\"].hist(bins = 17, edgecolor = \"black\", grid = False)\n",
    "plt.xlabel(\"Order Completion Time\")\n",
    "plt.ylabel(\"Number of Orders\")\n",
    "plt.title(\"Distribution of Order Completion Time\")"
   ]
  },
  {
   "cell_type": "code",
   "execution_count": 35,
   "id": "b2saqAK-U0gm",
   "metadata": {
    "colab": {
     "base_uri": "https://localhost:8080/",
     "height": 312
    },
    "executionInfo": {
     "elapsed": 260,
     "status": "ok",
     "timestamp": 1676476995425,
     "user": {
      "displayName": "Victor Abril",
      "userId": "02019151479126081294"
     },
     "user_tz": 300
    },
    "id": "b2saqAK-U0gm",
    "outputId": "72265f24-8aad-472a-b1ee-70f8b0aabb6b"
   },
   "outputs": [
    {
     "data": {
      "text/plain": [
       "Text(0.5, 1.0, 'Boxplot of Order Completion Time')"
      ]
     },
     "execution_count": 35,
     "metadata": {},
     "output_type": "execute_result"
    },
    {
     "data": {
      "image/png": "[encoded data removed]",
      "text/plain": [
       "<Figure size 432x288 with 1 Axes>"
      ]
     },
     "metadata": {
      "needs_background": "light"
     },
     "output_type": "display_data"
    }
   ],
   "source": [
    "cleaned_df.boxplot(column = [\"order_completion_time\"], vert=False)\n",
    "plt.xlabel(\"Order Completion Time\")\n",
    "plt.yticks([])\n",
    "plt.title(\"Boxplot of Order Completion Time\")"
   ]
  },
  {
   "cell_type": "code",
   "execution_count": 36,
   "id": "pffhocv-U6I3",
   "metadata": {
    "colab": {
     "base_uri": "https://localhost:8080/"
    },
    "executionInfo": {
     "elapsed": 24,
     "status": "ok",
     "timestamp": 1676476995427,
     "user": {
      "displayName": "Victor Abril",
      "userId": "02019151479126081294"
     },
     "user_tz": 300
    },
    "id": "pffhocv-U6I3",
    "outputId": "a9b74c57-2fea-4238-efc7-ba5a8d9a4541"
   },
   "outputs": [
    {
     "data": {
      "text/plain": [
       "count    1162.000000\n",
       "mean       51.535284\n",
       "std         6.767522\n",
       "min        35.000000\n",
       "25%        47.000000\n",
       "50%        51.000000\n",
       "75%        56.000000\n",
       "max        68.000000\n",
       "Name: order_completion_time, dtype: float64"
      ]
     },
     "execution_count": 36,
     "metadata": {},
     "output_type": "execute_result"
    }
   ],
   "source": [
    "cleaned_df[\"order_completion_time\"].describe()"
   ]
  },
  {
   "cell_type": "markdown",
   "id": "GByXUbc-WkLA",
   "metadata": {
    "id": "GByXUbc-WkLA"
   },
   "source": [
    "* The data appears to be consistent, meaning no anomalies.\n",
    "* The histogram and boxplot indicate a normal distribution\n",
    "* The median order completion time is approximately 52 minutes , while the mean is at 51.53 minutes.\n",
    "* The minimum order cost is approximately 35 minutes\n",
    "* The maximum order completion time is approximately 68 minutes\n",
    "* The distribution of our data implies that most orders a completed within 47 to 55 minutes"
   ]
  },
  {
   "cell_type": "markdown",
   "id": "z9yZyGE6beqM",
   "metadata": {
    "id": "z9yZyGE6beqM"
   },
   "source": [
    "## Research Questions"
   ]
  },
  {
   "cell_type": "code",
   "execution_count": 37,
   "id": "bvhJUYBvBDdl",
   "metadata": {
    "colab": {
     "base_uri": "https://localhost:8080/",
     "height": 391
    },
    "executionInfo": {
     "elapsed": 215,
     "status": "ok",
     "timestamp": 1676476995630,
     "user": {
      "displayName": "Victor Abril",
      "userId": "02019151479126081294"
     },
     "user_tz": 300
    },
    "id": "bvhJUYBvBDdl",
    "outputId": "8d5ca5e2-e889-4bc9-d19e-9416f66860bd"
   },
   "outputs": [
    {
     "data": {
      "image/png": "[encoded data removed]",
      "text/plain": [
       "<Figure size 576x360 with 1 Axes>"
      ]
     },
     "metadata": {
      "needs_background": "light"
     },
     "output_type": "display_data"
    }
   ],
   "source": [
    "weekly_ratings = cleaned_df.groupby(\"day_of_the_week\")\n",
    "week_df = weekly_ratings[\"rating\"].count()\n",
    "N=2\n",
    "week_df.plot(kind=\"bar\", color = plt.cm.Pastel2(np.arange(N)),figsize=(8,5),fontsize = 11)\n",
    "plt.ylabel(\"Count of Ratings\",fontsize = 11)\n",
    "plt.title(\"Day of The Week vs Rating Count\")\n",
    "plt.show()"
   ]
  },
  {
   "cell_type": "markdown",
   "id": "xYxPYmwAD7NC",
   "metadata": {
    "id": "xYxPYmwAD7NC"
   },
   "source": [
    "\n",
    "* It seems that weekends are very important and prime business days\n",
    "* Since there seems to be more order on the weekends rather than the weekdays lets slipt the research questions by days of the week to see if we can find any interesting insights"
   ]
  },
  {
   "cell_type": "code",
   "execution_count": 38,
   "id": "DUvWjbJvDwj9",
   "metadata": {
    "executionInfo": {
     "elapsed": 22,
     "status": "ok",
     "timestamp": 1676476995631,
     "user": {
      "displayName": "Victor Abril",
      "userId": "02019151479126081294"
     },
     "user_tz": 300
    },
    "id": "DUvWjbJvDwj9"
   },
   "outputs": [],
   "source": [
    "df_weekday = cleaned_df.query(\"day_of_the_week == 'Weekday'\")\n",
    "df_weekend = cleaned_df.query(\"day_of_the_week == 'Weekend'\")"
   ]
  },
  {
   "cell_type": "markdown",
   "id": "YH287-LCqr9l",
   "metadata": {
    "id": "YH287-LCqr9l"
   },
   "source": [
    "### Restaurant vs Rating "
   ]
  },
  {
   "cell_type": "code",
   "execution_count": 39,
   "id": "x5EWkSB7qrbz",
   "metadata": {
    "colab": {
     "base_uri": "https://localhost:8080/",
     "height": 0
    },
    "executionInfo": {
     "elapsed": 21,
     "status": "ok",
     "timestamp": 1676476995631,
     "user": {
      "displayName": "Victor Abril",
      "userId": "02019151479126081294"
     },
     "user_tz": 300
    },
    "id": "x5EWkSB7qrbz",
    "outputId": "a7d6f36e-b858-488c-9e89-2ec1fc8b497e"
   },
   "outputs": [
    {
     "data": {
      "text/html": [
       "\n",
       "  <div id=\"df-c8829003-7b98-4c58-b942-848497eeb5f7\">\n",
       "    <div class=\"colab-df-container\">\n",
       "      <div>\n",
       "<style scoped>\n",
       "    .dataframe tbody tr th:only-of-type {\n",
       "        vertical-align: middle;\n",
       "    }\n",
       "\n",
       "    .dataframe tbody tr th {\n",
       "        vertical-align: top;\n",
       "    }\n",
       "\n",
       "    .dataframe thead tr th {\n",
       "        text-align: left;\n",
       "    }\n",
       "\n",
       "    .dataframe thead tr:last-of-type th {\n",
       "        text-align: right;\n",
       "    }\n",
       "</style>\n",
       "<table border=\"1\" class=\"dataframe\">\n",
       "  <thead>\n",
       "    <tr>\n",
       "      <th></th>\n",
       "      <th colspan=\"2\" halign=\"left\">rating</th>\n",
       "    </tr>\n",
       "    <tr>\n",
       "      <th></th>\n",
       "      <th>count</th>\n",
       "      <th>mean</th>\n",
       "    </tr>\n",
       "    <tr>\n",
       "      <th>restaurant_name</th>\n",
       "      <th></th>\n",
       "      <th></th>\n",
       "    </tr>\n",
       "  </thead>\n",
       "  <tbody>\n",
       "    <tr>\n",
       "      <th>Blue Ribbon Sushi Bar &amp; Grill</th>\n",
       "      <td>8</td>\n",
       "      <td>4.875000</td>\n",
       "    </tr>\n",
       "    <tr>\n",
       "      <th>The Meatball Shop</th>\n",
       "      <td>30</td>\n",
       "      <td>4.666667</td>\n",
       "    </tr>\n",
       "    <tr>\n",
       "      <th>Parm</th>\n",
       "      <td>13</td>\n",
       "      <td>4.538462</td>\n",
       "    </tr>\n",
       "    <tr>\n",
       "      <th>Blue Ribbon Fried Chicken</th>\n",
       "      <td>15</td>\n",
       "      <td>4.466667</td>\n",
       "    </tr>\n",
       "    <tr>\n",
       "      <th>ilili Restaurant</th>\n",
       "      <td>8</td>\n",
       "      <td>4.250000</td>\n",
       "    </tr>\n",
       "    <tr>\n",
       "      <th>Nobu Next Door</th>\n",
       "      <td>8</td>\n",
       "      <td>4.250000</td>\n",
       "    </tr>\n",
       "    <tr>\n",
       "      <th>Shake Shack</th>\n",
       "      <td>47</td>\n",
       "      <td>4.234043</td>\n",
       "    </tr>\n",
       "    <tr>\n",
       "      <th>Blue Ribbon Sushi</th>\n",
       "      <td>15</td>\n",
       "      <td>4.133333</td>\n",
       "    </tr>\n",
       "    <tr>\n",
       "      <th>RedFarm Broadway</th>\n",
       "      <td>8</td>\n",
       "      <td>4.000000</td>\n",
       "    </tr>\n",
       "    <tr>\n",
       "      <th>Momoya</th>\n",
       "      <td>8</td>\n",
       "      <td>4.000000</td>\n",
       "    </tr>\n",
       "  </tbody>\n",
       "</table>\n",
       "</div>\n",
       "      <button class=\"colab-df-convert\" onclick=\"convertToInteractive('df-c8829003-7b98-4c58-b942-848497eeb5f7')\"\n",
       "              title=\"Convert this dataframe to an interactive table.\"\n",
       "              style=\"display:none;\">\n",
       "        \n",
       "  <svg xmlns=\"http://www.w3.org/2000/svg\" height=\"24px\"viewBox=\"0 0 24 24\"\n",
       "       width=\"24px\">\n",
       "    <path d=\"M0 0h24v24H0V0z\" fill=\"none\"/>\n",
       "    <path d=\"M18.56 5.44l.94 2.06.94-2.06 2.06-.94-2.06-.94-.94-2.06-.94 2.06-2.06.94zm-11 1L8.5 8.5l.94-2.06 2.06-.94-2.06-.94L8.5 2.5l-.94 2.06-2.06.94zm10 10l.94 2.06.94-2.06 2.06-.94-2.06-.94-.94-2.06-.94 2.06-2.06.94z\"/><path d=\"M17.41 7.96l-1.37-1.37c-.4-.4-.92-.59-1.43-.59-.52 0-1.04.2-1.43.59L10.3 9.45l-7.72 7.72c-.78.78-.78 2.05 0 2.83L4 21.41c.39.39.9.59 1.41.59.51 0 1.02-.2 1.41-.59l7.78-7.78 2.81-2.81c.8-.78.8-2.07 0-2.86zM5.41 20L4 18.59l7.72-7.72 1.47 1.35L5.41 20z\"/>\n",
       "  </svg>\n",
       "      </button>\n",
       "      \n",
       "  <style>\n",
       "    .colab-df-container {\n",
       "      display:flex;\n",
       "      flex-wrap:wrap;\n",
       "      gap: 12px;\n",
       "    }\n",
       "\n",
       "    .colab-df-convert {\n",
       "      background-color: #E8F0FE;\n",
       "      border: none;\n",
       "      border-radius: 50%;\n",
       "      cursor: pointer;\n",
       "      display: none;\n",
       "      fill: #1967D2;\n",
       "      height: 32px;\n",
       "      padding: 0 0 0 0;\n",
       "      width: 32px;\n",
       "    }\n",
       "\n",
       "    .colab-df-convert:hover {\n",
       "      background-color: #E2EBFA;\n",
       "      box-shadow: 0px 1px 2px rgba(60, 64, 67, 0.3), 0px 1px 3px 1px rgba(60, 64, 67, 0.15);\n",
       "      fill: #174EA6;\n",
       "    }\n",
       "\n",
       "    [theme=dark] .colab-df-convert {\n",
       "      background-color: #3B4455;\n",
       "      fill: #D2E3FC;\n",
       "    }\n",
       "\n",
       "    [theme=dark] .colab-df-convert:hover {\n",
       "      background-color: #434B5C;\n",
       "      box-shadow: 0px 1px 3px 1px rgba(0, 0, 0, 0.15);\n",
       "      filter: drop-shadow(0px 1px 2px rgba(0, 0, 0, 0.3));\n",
       "      fill: #FFFFFF;\n",
       "    }\n",
       "  </style>\n",
       "\n",
       "      <script>\n",
       "        const buttonEl =\n",
       "          document.querySelector('#df-c8829003-7b98-4c58-b942-848497eeb5f7 button.colab-df-convert');\n",
       "        buttonEl.style.display =\n",
       "          google.colab.kernel.accessAllowed ? 'block' : 'none';\n",
       "\n",
       "        async function convertToInteractive(key) {\n",
       "          const element = document.querySelector('#df-c8829003-7b98-4c58-b942-848497eeb5f7');\n",
       "          const dataTable =\n",
       "            await google.colab.kernel.invokeFunction('convertToInteractive',\n",
       "                                                     [key], {});\n",
       "          if (!dataTable) return;\n",
       "\n",
       "          const docLinkHtml = 'Like what you see? Visit the ' +\n",
       "            '<a target=\"_blank\" href=https://colab.research.google.com/notebooks/data_table.ipynb>data table notebook</a>'\n",
       "            + ' to learn more about interactive tables.';\n",
       "          element.innerHTML = '';\n",
       "          dataTable['output_type'] = 'display_data';\n",
       "          await google.colab.output.renderOutput(dataTable, element);\n",
       "          const docLink = document.createElement('div');\n",
       "          docLink.innerHTML = docLinkHtml;\n",
       "          element.appendChild(docLink);\n",
       "        }\n",
       "      </script>\n",
       "    </div>\n",
       "  </div>\n",
       "  "
      ],
      "text/plain": [
       "                              rating          \n",
       "                               count      mean\n",
       "restaurant_name                               \n",
       "Blue Ribbon Sushi Bar & Grill      8  4.875000\n",
       "The Meatball Shop                 30  4.666667\n",
       "Parm                              13  4.538462\n",
       "Blue Ribbon Fried Chicken         15  4.466667\n",
       "ilili Restaurant                   8  4.250000\n",
       "Nobu Next Door                     8  4.250000\n",
       "Shake Shack                       47  4.234043\n",
       "Blue Ribbon Sushi                 15  4.133333\n",
       "RedFarm Broadway                   8  4.000000\n",
       "Momoya                             8  4.000000"
      ]
     },
     "execution_count": 39,
     "metadata": {},
     "output_type": "execute_result"
    }
   ],
   "source": [
    "# we will only take into account the top 10 restaurants with the most number of orders and highest rating\n",
    "restaurant_v_rating_df = df_weekday[[\"restaurant_name\",\"rating\", \"cost_of_the_order\", \"order_completion_time\"]].groupby(by = [\"restaurant_name\"]).agg({\"rating\":['count','mean']})\n",
    "top_10_df_day = restaurant_v_rating_df.sort_values(by =(\"rating\", \"count\"), ascending = False).head(10)\n",
    "top_10_df_day = top_10_df_day.sort_values(by =(\"rating\", \"mean\"), ascending = False)\n",
    "top_10_df_day"
   ]
  },
  {
   "cell_type": "code",
   "execution_count": 40,
   "id": "eMEnoew8sGEU",
   "metadata": {
    "colab": {
     "base_uri": "https://localhost:8080/",
     "height": 0
    },
    "executionInfo": {
     "elapsed": 218,
     "status": "ok",
     "timestamp": 1676476995829,
     "user": {
      "displayName": "Victor Abril",
      "userId": "02019151479126081294"
     },
     "user_tz": 300
    },
    "id": "eMEnoew8sGEU",
    "outputId": "4278a5fa-402f-4e72-e164-7f8311475afe"
   },
   "outputs": [
    {
     "data": {
      "text/plain": [
       "Text(0.5, 1.0, 'Restaurant vs Rating (Weekday)')"
      ]
     },
     "execution_count": 40,
     "metadata": {},
     "output_type": "execute_result"
    },
    {
     "data": {
      "image/png": "[encoded data removed]",
      "text/plain": [
       "<Figure size 432x288 with 1 Axes>"
      ]
     },
     "metadata": {
      "needs_background": "light"
     },
     "output_type": "display_data"
    }
   ],
   "source": [
    "top_10_df_day.plot(kind = \"bar\", y = (\"rating\", \"mean\"), legend = None)\n",
    "plt.xlabel('')\n",
    "plt.ylabel(\" Average Rating\")\n",
    "plt.title(\"Restaurant vs Rating (Weekday)\")"
   ]
  },
  {
   "cell_type": "code",
   "execution_count": 41,
   "id": "dlRxa9mBsuIo",
   "metadata": {
    "colab": {
     "base_uri": "https://localhost:8080/",
     "height": 0
    },
    "executionInfo": {
     "elapsed": 17,
     "status": "ok",
     "timestamp": 1676476995830,
     "user": {
      "displayName": "Victor Abril",
      "userId": "02019151479126081294"
     },
     "user_tz": 300
    },
    "id": "dlRxa9mBsuIo",
    "outputId": "94e05c84-f440-469f-f6f7-0c6f73243d01"
   },
   "outputs": [
    {
     "data": {
      "text/html": [
       "\n",
       "  <div id=\"df-35a0d8f6-8138-4ea6-9185-25b837bd8bdc\">\n",
       "    <div class=\"colab-df-container\">\n",
       "      <div>\n",
       "<style scoped>\n",
       "    .dataframe tbody tr th:only-of-type {\n",
       "        vertical-align: middle;\n",
       "    }\n",
       "\n",
       "    .dataframe tbody tr th {\n",
       "        vertical-align: top;\n",
       "    }\n",
       "\n",
       "    .dataframe thead tr th {\n",
       "        text-align: left;\n",
       "    }\n",
       "\n",
       "    .dataframe thead tr:last-of-type th {\n",
       "        text-align: right;\n",
       "    }\n",
       "</style>\n",
       "<table border=\"1\" class=\"dataframe\">\n",
       "  <thead>\n",
       "    <tr>\n",
       "      <th></th>\n",
       "      <th colspan=\"2\" halign=\"left\">rating</th>\n",
       "    </tr>\n",
       "    <tr>\n",
       "      <th></th>\n",
       "      <th>count</th>\n",
       "      <th>mean</th>\n",
       "    </tr>\n",
       "    <tr>\n",
       "      <th>restaurant_name</th>\n",
       "      <th></th>\n",
       "      <th></th>\n",
       "    </tr>\n",
       "  </thead>\n",
       "  <tbody>\n",
       "    <tr>\n",
       "      <th>Han Dynasty</th>\n",
       "      <td>19</td>\n",
       "      <td>4.526316</td>\n",
       "    </tr>\n",
       "    <tr>\n",
       "      <th>TAO</th>\n",
       "      <td>23</td>\n",
       "      <td>4.434783</td>\n",
       "    </tr>\n",
       "    <tr>\n",
       "      <th>The Meatball Shop</th>\n",
       "      <td>54</td>\n",
       "      <td>4.425926</td>\n",
       "    </tr>\n",
       "    <tr>\n",
       "      <th>RedFarm Broadway</th>\n",
       "      <td>33</td>\n",
       "      <td>4.303030</td>\n",
       "    </tr>\n",
       "    <tr>\n",
       "      <th>Shake Shack</th>\n",
       "      <td>86</td>\n",
       "      <td>4.302326</td>\n",
       "    </tr>\n",
       "    <tr>\n",
       "      <th>Blue Ribbon Fried Chicken</th>\n",
       "      <td>49</td>\n",
       "      <td>4.285714</td>\n",
       "    </tr>\n",
       "    <tr>\n",
       "      <th>Blue Ribbon Sushi</th>\n",
       "      <td>58</td>\n",
       "      <td>4.241379</td>\n",
       "    </tr>\n",
       "    <tr>\n",
       "      <th>Rubirosa</th>\n",
       "      <td>18</td>\n",
       "      <td>4.222222</td>\n",
       "    </tr>\n",
       "    <tr>\n",
       "      <th>RedFarm Hudson</th>\n",
       "      <td>28</td>\n",
       "      <td>4.035714</td>\n",
       "    </tr>\n",
       "    <tr>\n",
       "      <th>Parm</th>\n",
       "      <td>26</td>\n",
       "      <td>3.923077</td>\n",
       "    </tr>\n",
       "  </tbody>\n",
       "</table>\n",
       "</div>\n",
       "      <button class=\"colab-df-convert\" onclick=\"convertToInteractive('df-35a0d8f6-8138-4ea6-9185-25b837bd8bdc')\"\n",
       "              title=\"Convert this dataframe to an interactive table.\"\n",
       "              style=\"display:none;\">\n",
       "        \n",
       "  <svg xmlns=\"http://www.w3.org/2000/svg\" height=\"24px\"viewBox=\"0 0 24 24\"\n",
       "       width=\"24px\">\n",
       "    <path d=\"M0 0h24v24H0V0z\" fill=\"none\"/>\n",
       "    <path d=\"M18.56 5.44l.94 2.06.94-2.06 2.06-.94-2.06-.94-.94-2.06-.94 2.06-2.06.94zm-11 1L8.5 8.5l.94-2.06 2.06-.94-2.06-.94L8.5 2.5l-.94 2.06-2.06.94zm10 10l.94 2.06.94-2.06 2.06-.94-2.06-.94-.94-2.06-.94 2.06-2.06.94z\"/><path d=\"M17.41 7.96l-1.37-1.37c-.4-.4-.92-.59-1.43-.59-.52 0-1.04.2-1.43.59L10.3 9.45l-7.72 7.72c-.78.78-.78 2.05 0 2.83L4 21.41c.39.39.9.59 1.41.59.51 0 1.02-.2 1.41-.59l7.78-7.78 2.81-2.81c.8-.78.8-2.07 0-2.86zM5.41 20L4 18.59l7.72-7.72 1.47 1.35L5.41 20z\"/>\n",
       "  </svg>\n",
       "      </button>\n",
       "      \n",
       "  <style>\n",
       "    .colab-df-container {\n",
       "      display:flex;\n",
       "      flex-wrap:wrap;\n",
       "      gap: 12px;\n",
       "    }\n",
       "\n",
       "    .colab-df-convert {\n",
       "      background-color: #E8F0FE;\n",
       "      border: none;\n",
       "      border-radius: 50%;\n",
       "      cursor: pointer;\n",
       "      display: none;\n",
       "      fill: #1967D2;\n",
       "      height: 32px;\n",
       "      padding: 0 0 0 0;\n",
       "      width: 32px;\n",
       "    }\n",
       "\n",
       "    .colab-df-convert:hover {\n",
       "      background-color: #E2EBFA;\n",
       "      box-shadow: 0px 1px 2px rgba(60, 64, 67, 0.3), 0px 1px 3px 1px rgba(60, 64, 67, 0.15);\n",
       "      fill: #174EA6;\n",
       "    }\n",
       "\n",
       "    [theme=dark] .colab-df-convert {\n",
       "      background-color: #3B4455;\n",
       "      fill: #D2E3FC;\n",
       "    }\n",
       "\n",
       "    [theme=dark] .colab-df-convert:hover {\n",
       "      background-color: #434B5C;\n",
       "      box-shadow: 0px 1px 3px 1px rgba(0, 0, 0, 0.15);\n",
       "      filter: drop-shadow(0px 1px 2px rgba(0, 0, 0, 0.3));\n",
       "      fill: #FFFFFF;\n",
       "    }\n",
       "  </style>\n",
       "\n",
       "      <script>\n",
       "        const buttonEl =\n",
       "          document.querySelector('#df-35a0d8f6-8138-4ea6-9185-25b837bd8bdc button.colab-df-convert');\n",
       "        buttonEl.style.display =\n",
       "          google.colab.kernel.accessAllowed ? 'block' : 'none';\n",
       "\n",
       "        async function convertToInteractive(key) {\n",
       "          const element = document.querySelector('#df-35a0d8f6-8138-4ea6-9185-25b837bd8bdc');\n",
       "          const dataTable =\n",
       "            await google.colab.kernel.invokeFunction('convertToInteractive',\n",
       "                                                     [key], {});\n",
       "          if (!dataTable) return;\n",
       "\n",
       "          const docLinkHtml = 'Like what you see? Visit the ' +\n",
       "            '<a target=\"_blank\" href=https://colab.research.google.com/notebooks/data_table.ipynb>data table notebook</a>'\n",
       "            + ' to learn more about interactive tables.';\n",
       "          element.innerHTML = '';\n",
       "          dataTable['output_type'] = 'display_data';\n",
       "          await google.colab.output.renderOutput(dataTable, element);\n",
       "          const docLink = document.createElement('div');\n",
       "          docLink.innerHTML = docLinkHtml;\n",
       "          element.appendChild(docLink);\n",
       "        }\n",
       "      </script>\n",
       "    </div>\n",
       "  </div>\n",
       "  "
      ],
      "text/plain": [
       "                          rating          \n",
       "                           count      mean\n",
       "restaurant_name                           \n",
       "Han Dynasty                   19  4.526316\n",
       "TAO                           23  4.434783\n",
       "The Meatball Shop             54  4.425926\n",
       "RedFarm Broadway              33  4.303030\n",
       "Shake Shack                   86  4.302326\n",
       "Blue Ribbon Fried Chicken     49  4.285714\n",
       "Blue Ribbon Sushi             58  4.241379\n",
       "Rubirosa                      18  4.222222\n",
       "RedFarm Hudson                28  4.035714\n",
       "Parm                          26  3.923077"
      ]
     },
     "execution_count": 41,
     "metadata": {},
     "output_type": "execute_result"
    }
   ],
   "source": [
    "# we will only take into account the top 10 restaurants with the most number of orders and highest rating\n",
    "restaurant_v_rating_df = df_weekend[[\"restaurant_name\",\"rating\", \"cost_of_the_order\", \"order_completion_time\"]].groupby(by = [\"restaurant_name\"]).agg({\"rating\":['count','mean']})\n",
    "top_10_df_end = restaurant_v_rating_df.sort_values(by =(\"rating\", \"count\"), ascending = False).head(10)\n",
    "top_10_df_end = top_10_df_end.sort_values(by =(\"rating\", \"mean\"), ascending = False)\n",
    "top_10_df_end"
   ]
  },
  {
   "cell_type": "code",
   "execution_count": 42,
   "id": "miThFe_iswpp",
   "metadata": {
    "colab": {
     "base_uri": "https://localhost:8080/",
     "height": 0
    },
    "executionInfo": {
     "elapsed": 328,
     "status": "ok",
     "timestamp": 1676476996143,
     "user": {
      "displayName": "Victor Abril",
      "userId": "02019151479126081294"
     },
     "user_tz": 300
    },
    "id": "miThFe_iswpp",
    "outputId": "499d6cdf-b47e-4db6-8cfc-b5e022ecc84b"
   },
   "outputs": [
    {
     "data": {
      "text/plain": [
       "Text(0.5, 1.0, 'Restaurant vs Rating (Weekend)')"
      ]
     },
     "execution_count": 42,
     "metadata": {},
     "output_type": "execute_result"
    },
    {
     "data": {
      "image/png": "[encoded data removed]",
      "text/plain": [
       "<Figure size 432x288 with 1 Axes>"
      ]
     },
     "metadata": {
      "needs_background": "light"
     },
     "output_type": "display_data"
    }
   ],
   "source": [
    "top_10_df_end.plot(kind = \"bar\", y = (\"rating\", \"mean\"), legend = None)\n",
    "plt.xlabel('')\n",
    "plt.ylabel(\" Average Rating\")\n",
    "plt.title(\"Restaurant vs Rating (Weekend)\")"
   ]
  },
  {
   "cell_type": "code",
   "execution_count": 43,
   "id": "wQyKqk7oVDZl",
   "metadata": {
    "colab": {
     "base_uri": "https://localhost:8080/"
    },
    "executionInfo": {
     "elapsed": 25,
     "status": "ok",
     "timestamp": 1676476996144,
     "user": {
      "displayName": "Victor Abril",
      "userId": "02019151479126081294"
     },
     "user_tz": 300
    },
    "id": "wQyKqk7oVDZl",
    "outputId": "a452ff3f-328c-461a-9094-4d5efa4e3fa4"
   },
   "outputs": [
    {
     "data": {
      "text/plain": [
       "['The Meatball Shop',\n",
       " 'Parm',\n",
       " 'Blue Ribbon Fried Chicken',\n",
       " 'Shake Shack',\n",
       " 'Blue Ribbon Sushi',\n",
       " 'RedFarm Broadway']"
      ]
     },
     "execution_count": 43,
     "metadata": {},
     "output_type": "execute_result"
    }
   ],
   "source": [
    "repeated_name = []\n",
    "for name1 in top_10_df_day.index:\n",
    "  for name2 in top_10_df_end.index:\n",
    "    if name1 == name2:\n",
    "      repeated_name.append(name2)\n",
    "      break\n",
    "repeated_name"
   ]
  },
  {
   "cell_type": "markdown",
   "id": "UBWM1GTORYEH",
   "metadata": {
    "id": "UBWM1GTORYEH"
   },
   "source": [
    "We are only considering the top 10 restaurants with the highest orders and ratings to make a concise graph and give an accurate restaurant recommendation. There are restaurants with higher ratings outside of these top 10, but they do not have enough orders to make the ratings believable. From the sorted graphs above, we can see the top 3 restaurants with the highest ratings are:\n",
    "* Weekdays\n",
    " * Blue Ribbon Sushi Bar & Grill (4.9)\n",
    " * The Meatball Shop (4.7)\n",
    " * Parm\t(4.5)\n",
    "* Weekends\n",
    " * Han Dynasty (4.5)\n",
    " * TAO (4.4)\n",
    " * The Meatball Shop (4.4)\n",
    "\n",
    "The following restaurants remain in the top 10 throughout the whole week:\n",
    "* The Meatball Shop\n",
    "* Parm\n",
    "* Blue Ribbon Fried Chicken\n",
    "* Shake Shack\n",
    "* Blue Ribbon Sushi\n",
    "* RedFarm Broadway\n",
    "\n",
    "If we were to give any restaurant recommendation based on these results, The Meatball Shop would be the first pick because of its high rating"
   ]
  },
  {
   "cell_type": "markdown",
   "id": "b51420ae",
   "metadata": {
    "id": "b51420ae"
   },
   "source": [
    "### Cost of Order vs Rating"
   ]
  },
  {
   "cell_type": "code",
   "execution_count": 44,
   "id": "e4248be8",
   "metadata": {
    "colab": {
     "base_uri": "https://localhost:8080/",
     "height": 420
    },
    "executionInfo": {
     "elapsed": 777,
     "status": "ok",
     "timestamp": 1676476996910,
     "user": {
      "displayName": "Victor Abril",
      "userId": "02019151479126081294"
     },
     "user_tz": 300
    },
    "id": "e4248be8",
    "outputId": "2ba60002-daf1-44e6-c13a-0a624403673d"
   },
   "outputs": [
    {
     "name": "stderr",
     "output_type": "stream",
     "text": [
      "/usr/local/lib/python3.8/dist-packages/matplotlib/cbook/__init__.py:1376: VisibleDeprecationWarning: Creating an ndarray from ragged nested sequences (which is a list-or-tuple of lists-or-tuples-or ndarrays with different lengths or shapes) is deprecated. If you meant to do this, you must specify 'dtype=object' when creating the ndarray.\n",
      "  X = np.atleast_1d(X.T if isinstance(X, np.ndarray) else np.asarray(X))\n"
     ]
    },
    {
     "data": {
      "text/plain": [
       "Text(0.5, 0.98, '')"
      ]
     },
     "execution_count": 44,
     "metadata": {},
     "output_type": "execute_result"
    },
    {
     "data": {
      "image/png": "[encoded data removed]",
      "text/plain": [
       "<Figure size 576x360 with 1 Axes>"
      ]
     },
     "metadata": {
      "needs_background": "light"
     },
     "output_type": "display_data"
    }
   ],
   "source": [
    "df_weekday.boxplot(by ='rating', column =['cost_of_the_order'], vert = False, figsize = (8,5))\n",
    "plt.xlabel(\"Cost of the Order\")\n",
    "plt.ylabel(\"Rating\")\n",
    "plt.title(\"Price Paid vs Rating (Weekday)\")\n",
    "plt.suptitle(\"\")"
   ]
  },
  {
   "cell_type": "code",
   "execution_count": 45,
   "id": "dusO94EPhq37",
   "metadata": {
    "colab": {
     "base_uri": "https://localhost:8080/",
     "height": 206
    },
    "executionInfo": {
     "elapsed": 102,
     "status": "ok",
     "timestamp": 1676476996910,
     "user": {
      "displayName": "Victor Abril",
      "userId": "02019151479126081294"
     },
     "user_tz": 300
    },
    "id": "dusO94EPhq37",
    "outputId": "39af4ebc-6bf7-4450-f949-bc72ed6d94c2"
   },
   "outputs": [
    {
     "data": {
      "text/html": [
       "\n",
       "  <div id=\"df-e4f6e0c0-44c1-40c2-af21-ed6b2a6b07e3\">\n",
       "    <div class=\"colab-df-container\">\n",
       "      <div>\n",
       "<style scoped>\n",
       "    .dataframe tbody tr th:only-of-type {\n",
       "        vertical-align: middle;\n",
       "    }\n",
       "\n",
       "    .dataframe tbody tr th {\n",
       "        vertical-align: top;\n",
       "    }\n",
       "\n",
       "    .dataframe thead tr th {\n",
       "        text-align: left;\n",
       "    }\n",
       "\n",
       "    .dataframe thead tr:last-of-type th {\n",
       "        text-align: right;\n",
       "    }\n",
       "</style>\n",
       "<table border=\"1\" class=\"dataframe\">\n",
       "  <thead>\n",
       "    <tr>\n",
       "      <th></th>\n",
       "      <th colspan=\"5\" halign=\"left\">cost_of_the_order</th>\n",
       "    </tr>\n",
       "    <tr>\n",
       "      <th></th>\n",
       "      <th>count</th>\n",
       "      <th>mean</th>\n",
       "      <th>min</th>\n",
       "      <th>max</th>\n",
       "      <th>std</th>\n",
       "    </tr>\n",
       "    <tr>\n",
       "      <th>rating</th>\n",
       "      <th></th>\n",
       "      <th></th>\n",
       "      <th></th>\n",
       "      <th></th>\n",
       "      <th></th>\n",
       "    </tr>\n",
       "  </thead>\n",
       "  <tbody>\n",
       "    <tr>\n",
       "      <th>3</th>\n",
       "      <td>63</td>\n",
       "      <td>16.275397</td>\n",
       "      <td>5.67</td>\n",
       "      <td>33.37</td>\n",
       "      <td>7.973670</td>\n",
       "    </tr>\n",
       "    <tr>\n",
       "      <th>4</th>\n",
       "      <td>109</td>\n",
       "      <td>15.987982</td>\n",
       "      <td>4.75</td>\n",
       "      <td>35.41</td>\n",
       "      <td>7.797097</td>\n",
       "    </tr>\n",
       "    <tr>\n",
       "      <th>5</th>\n",
       "      <td>168</td>\n",
       "      <td>16.306667</td>\n",
       "      <td>5.67</td>\n",
       "      <td>33.03</td>\n",
       "      <td>7.198277</td>\n",
       "    </tr>\n",
       "  </tbody>\n",
       "</table>\n",
       "</div>\n",
       "      <button class=\"colab-df-convert\" onclick=\"convertToInteractive('df-e4f6e0c0-44c1-40c2-af21-ed6b2a6b07e3')\"\n",
       "              title=\"Convert this dataframe to an interactive table.\"\n",
       "              style=\"display:none;\">\n",
       "        \n",
       "  <svg xmlns=\"http://www.w3.org/2000/svg\" height=\"24px\"viewBox=\"0 0 24 24\"\n",
       "       width=\"24px\">\n",
       "    <path d=\"M0 0h24v24H0V0z\" fill=\"none\"/>\n",
       "    <path d=\"M18.56 5.44l.94 2.06.94-2.06 2.06-.94-2.06-.94-.94-2.06-.94 2.06-2.06.94zm-11 1L8.5 8.5l.94-2.06 2.06-.94-2.06-.94L8.5 2.5l-.94 2.06-2.06.94zm10 10l.94 2.06.94-2.06 2.06-.94-2.06-.94-.94-2.06-.94 2.06-2.06.94z\"/><path d=\"M17.41 7.96l-1.37-1.37c-.4-.4-.92-.59-1.43-.59-.52 0-1.04.2-1.43.59L10.3 9.45l-7.72 7.72c-.78.78-.78 2.05 0 2.83L4 21.41c.39.39.9.59 1.41.59.51 0 1.02-.2 1.41-.59l7.78-7.78 2.81-2.81c.8-.78.8-2.07 0-2.86zM5.41 20L4 18.59l7.72-7.72 1.47 1.35L5.41 20z\"/>\n",
       "  </svg>\n",
       "      </button>\n",
       "      \n",
       "  <style>\n",
       "    .colab-df-container {\n",
       "      display:flex;\n",
       "      flex-wrap:wrap;\n",
       "      gap: 12px;\n",
       "    }\n",
       "\n",
       "    .colab-df-convert {\n",
       "      background-color: #E8F0FE;\n",
       "      border: none;\n",
       "      border-radius: 50%;\n",
       "      cursor: pointer;\n",
       "      display: none;\n",
       "      fill: #1967D2;\n",
       "      height: 32px;\n",
       "      padding: 0 0 0 0;\n",
       "      width: 32px;\n",
       "    }\n",
       "\n",
       "    .colab-df-convert:hover {\n",
       "      background-color: #E2EBFA;\n",
       "      box-shadow: 0px 1px 2px rgba(60, 64, 67, 0.3), 0px 1px 3px 1px rgba(60, 64, 67, 0.15);\n",
       "      fill: #174EA6;\n",
       "    }\n",
       "\n",
       "    [theme=dark] .colab-df-convert {\n",
       "      background-color: #3B4455;\n",
       "      fill: #D2E3FC;\n",
       "    }\n",
       "\n",
       "    [theme=dark] .colab-df-convert:hover {\n",
       "      background-color: #434B5C;\n",
       "      box-shadow: 0px 1px 3px 1px rgba(0, 0, 0, 0.15);\n",
       "      filter: drop-shadow(0px 1px 2px rgba(0, 0, 0, 0.3));\n",
       "      fill: #FFFFFF;\n",
       "    }\n",
       "  </style>\n",
       "\n",
       "      <script>\n",
       "        const buttonEl =\n",
       "          document.querySelector('#df-e4f6e0c0-44c1-40c2-af21-ed6b2a6b07e3 button.colab-df-convert');\n",
       "        buttonEl.style.display =\n",
       "          google.colab.kernel.accessAllowed ? 'block' : 'none';\n",
       "\n",
       "        async function convertToInteractive(key) {\n",
       "          const element = document.querySelector('#df-e4f6e0c0-44c1-40c2-af21-ed6b2a6b07e3');\n",
       "          const dataTable =\n",
       "            await google.colab.kernel.invokeFunction('convertToInteractive',\n",
       "                                                     [key], {});\n",
       "          if (!dataTable) return;\n",
       "\n",
       "          const docLinkHtml = 'Like what you see? Visit the ' +\n",
       "            '<a target=\"_blank\" href=https://colab.research.google.com/notebooks/data_table.ipynb>data table notebook</a>'\n",
       "            + ' to learn more about interactive tables.';\n",
       "          element.innerHTML = '';\n",
       "          dataTable['output_type'] = 'display_data';\n",
       "          await google.colab.output.renderOutput(dataTable, element);\n",
       "          const docLink = document.createElement('div');\n",
       "          docLink.innerHTML = docLinkHtml;\n",
       "          element.appendChild(docLink);\n",
       "        }\n",
       "      </script>\n",
       "    </div>\n",
       "  </div>\n",
       "  "
      ],
      "text/plain": [
       "       cost_of_the_order                                  \n",
       "                   count       mean   min    max       std\n",
       "rating                                                    \n",
       "3                     63  16.275397  5.67  33.37  7.973670\n",
       "4                    109  15.987982  4.75  35.41  7.797097\n",
       "5                    168  16.306667  5.67  33.03  7.198277"
      ]
     },
     "execution_count": 45,
     "metadata": {},
     "output_type": "execute_result"
    }
   ],
   "source": [
    "cost_v_rating_df = df_weekday[[\"rating\",\"cost_of_the_order\"]].groupby(by = [\"rating\"]).agg(['count', 'mean', 'min', 'max', 'std'])\n",
    "cost_v_rating_df"
   ]
  },
  {
   "cell_type": "code",
   "execution_count": 46,
   "id": "n7RoTVFIEkiI",
   "metadata": {
    "colab": {
     "base_uri": "https://localhost:8080/",
     "height": 420
    },
    "executionInfo": {
     "elapsed": 100,
     "status": "ok",
     "timestamp": 1676476996911,
     "user": {
      "displayName": "Victor Abril",
      "userId": "02019151479126081294"
     },
     "user_tz": 300
    },
    "id": "n7RoTVFIEkiI",
    "outputId": "9541d5e4-b863-464e-992b-f6ddf41ec447"
   },
   "outputs": [
    {
     "name": "stderr",
     "output_type": "stream",
     "text": [
      "/usr/local/lib/python3.8/dist-packages/matplotlib/cbook/__init__.py:1376: VisibleDeprecationWarning: Creating an ndarray from ragged nested sequences (which is a list-or-tuple of lists-or-tuples-or ndarrays with different lengths or shapes) is deprecated. If you meant to do this, you must specify 'dtype=object' when creating the ndarray.\n",
      "  X = np.atleast_1d(X.T if isinstance(X, np.ndarray) else np.asarray(X))\n"
     ]
    },
    {
     "data": {
      "text/plain": [
       "Text(0.5, 0.98, '')"
      ]
     },
     "execution_count": 46,
     "metadata": {},
     "output_type": "execute_result"
    },
    {
     "data": {
      "image/png": "[encoded data removed]",
      "text/plain": [
       "<Figure size 576x360 with 1 Axes>"
      ]
     },
     "metadata": {
      "needs_background": "light"
     },
     "output_type": "display_data"
    }
   ],
   "source": [
    "df_weekend.boxplot(by ='rating', column =['cost_of_the_order'], vert = False, figsize = (8,5))\n",
    "plt.xlabel(\"Cost of the Order\")\n",
    "plt.ylabel(\"Rating\")\n",
    "plt.title(\"Price paid vs Rating (Weekend)\")\n",
    "plt.suptitle(\"\")"
   ]
  },
  {
   "cell_type": "code",
   "execution_count": 47,
   "id": "lCnYGa2ZgDvy",
   "metadata": {
    "colab": {
     "base_uri": "https://localhost:8080/",
     "height": 206
    },
    "executionInfo": {
     "elapsed": 64,
     "status": "ok",
     "timestamp": 1676476996912,
     "user": {
      "displayName": "Victor Abril",
      "userId": "02019151479126081294"
     },
     "user_tz": 300
    },
    "id": "lCnYGa2ZgDvy",
    "outputId": "ee644f3d-037a-4dfa-dd67-01458dd0e41f"
   },
   "outputs": [
    {
     "data": {
      "text/html": [
       "\n",
       "  <div id=\"df-2f1260d5-9040-44b3-86a5-fd155f96b984\">\n",
       "    <div class=\"colab-df-container\">\n",
       "      <div>\n",
       "<style scoped>\n",
       "    .dataframe tbody tr th:only-of-type {\n",
       "        vertical-align: middle;\n",
       "    }\n",
       "\n",
       "    .dataframe tbody tr th {\n",
       "        vertical-align: top;\n",
       "    }\n",
       "\n",
       "    .dataframe thead tr th {\n",
       "        text-align: left;\n",
       "    }\n",
       "\n",
       "    .dataframe thead tr:last-of-type th {\n",
       "        text-align: right;\n",
       "    }\n",
       "</style>\n",
       "<table border=\"1\" class=\"dataframe\">\n",
       "  <thead>\n",
       "    <tr>\n",
       "      <th></th>\n",
       "      <th colspan=\"5\" halign=\"left\">cost_of_the_order</th>\n",
       "    </tr>\n",
       "    <tr>\n",
       "      <th></th>\n",
       "      <th>count</th>\n",
       "      <th>mean</th>\n",
       "      <th>min</th>\n",
       "      <th>max</th>\n",
       "      <th>std</th>\n",
       "    </tr>\n",
       "    <tr>\n",
       "      <th>rating</th>\n",
       "      <th></th>\n",
       "      <th></th>\n",
       "      <th></th>\n",
       "      <th></th>\n",
       "      <th></th>\n",
       "    </tr>\n",
       "  </thead>\n",
       "  <tbody>\n",
       "    <tr>\n",
       "      <th>3</th>\n",
       "      <td>125</td>\n",
       "      <td>16.197120</td>\n",
       "      <td>4.75</td>\n",
       "      <td>33.03</td>\n",
       "      <td>7.805336</td>\n",
       "    </tr>\n",
       "    <tr>\n",
       "      <th>4</th>\n",
       "      <td>277</td>\n",
       "      <td>16.994585</td>\n",
       "      <td>4.80</td>\n",
       "      <td>33.37</td>\n",
       "      <td>7.562787</td>\n",
       "    </tr>\n",
       "    <tr>\n",
       "      <th>5</th>\n",
       "      <td>420</td>\n",
       "      <td>17.229310</td>\n",
       "      <td>4.47</td>\n",
       "      <td>33.03</td>\n",
       "      <td>7.538806</td>\n",
       "    </tr>\n",
       "  </tbody>\n",
       "</table>\n",
       "</div>\n",
       "      <button class=\"colab-df-convert\" onclick=\"convertToInteractive('df-2f1260d5-9040-44b3-86a5-fd155f96b984')\"\n",
       "              title=\"Convert this dataframe to an interactive table.\"\n",
       "              style=\"display:none;\">\n",
       "        \n",
       "  <svg xmlns=\"http://www.w3.org/2000/svg\" height=\"24px\"viewBox=\"0 0 24 24\"\n",
       "       width=\"24px\">\n",
       "    <path d=\"M0 0h24v24H0V0z\" fill=\"none\"/>\n",
       "    <path d=\"M18.56 5.44l.94 2.06.94-2.06 2.06-.94-2.06-.94-.94-2.06-.94 2.06-2.06.94zm-11 1L8.5 8.5l.94-2.06 2.06-.94-2.06-.94L8.5 2.5l-.94 2.06-2.06.94zm10 10l.94 2.06.94-2.06 2.06-.94-2.06-.94-.94-2.06-.94 2.06-2.06.94z\"/><path d=\"M17.41 7.96l-1.37-1.37c-.4-.4-.92-.59-1.43-.59-.52 0-1.04.2-1.43.59L10.3 9.45l-7.72 7.72c-.78.78-.78 2.05 0 2.83L4 21.41c.39.39.9.59 1.41.59.51 0 1.02-.2 1.41-.59l7.78-7.78 2.81-2.81c.8-.78.8-2.07 0-2.86zM5.41 20L4 18.59l7.72-7.72 1.47 1.35L5.41 20z\"/>\n",
       "  </svg>\n",
       "      </button>\n",
       "      \n",
       "  <style>\n",
       "    .colab-df-container {\n",
       "      display:flex;\n",
       "      flex-wrap:wrap;\n",
       "      gap: 12px;\n",
       "    }\n",
       "\n",
       "    .colab-df-convert {\n",
       "      background-color: #E8F0FE;\n",
       "      border: none;\n",
       "      border-radius: 50%;\n",
       "      cursor: pointer;\n",
       "      display: none;\n",
       "      fill: #1967D2;\n",
       "      height: 32px;\n",
       "      padding: 0 0 0 0;\n",
       "      width: 32px;\n",
       "    }\n",
       "\n",
       "    .colab-df-convert:hover {\n",
       "      background-color: #E2EBFA;\n",
       "      box-shadow: 0px 1px 2px rgba(60, 64, 67, 0.3), 0px 1px 3px 1px rgba(60, 64, 67, 0.15);\n",
       "      fill: #174EA6;\n",
       "    }\n",
       "\n",
       "    [theme=dark] .colab-df-convert {\n",
       "      background-color: #3B4455;\n",
       "      fill: #D2E3FC;\n",
       "    }\n",
       "\n",
       "    [theme=dark] .colab-df-convert:hover {\n",
       "      background-color: #434B5C;\n",
       "      box-shadow: 0px 1px 3px 1px rgba(0, 0, 0, 0.15);\n",
       "      filter: drop-shadow(0px 1px 2px rgba(0, 0, 0, 0.3));\n",
       "      fill: #FFFFFF;\n",
       "    }\n",
       "  </style>\n",
       "\n",
       "      <script>\n",
       "        const buttonEl =\n",
       "          document.querySelector('#df-2f1260d5-9040-44b3-86a5-fd155f96b984 button.colab-df-convert');\n",
       "        buttonEl.style.display =\n",
       "          google.colab.kernel.accessAllowed ? 'block' : 'none';\n",
       "\n",
       "        async function convertToInteractive(key) {\n",
       "          const element = document.querySelector('#df-2f1260d5-9040-44b3-86a5-fd155f96b984');\n",
       "          const dataTable =\n",
       "            await google.colab.kernel.invokeFunction('convertToInteractive',\n",
       "                                                     [key], {});\n",
       "          if (!dataTable) return;\n",
       "\n",
       "          const docLinkHtml = 'Like what you see? Visit the ' +\n",
       "            '<a target=\"_blank\" href=https://colab.research.google.com/notebooks/data_table.ipynb>data table notebook</a>'\n",
       "            + ' to learn more about interactive tables.';\n",
       "          element.innerHTML = '';\n",
       "          dataTable['output_type'] = 'display_data';\n",
       "          await google.colab.output.renderOutput(dataTable, element);\n",
       "          const docLink = document.createElement('div');\n",
       "          docLink.innerHTML = docLinkHtml;\n",
       "          element.appendChild(docLink);\n",
       "        }\n",
       "      </script>\n",
       "    </div>\n",
       "  </div>\n",
       "  "
      ],
      "text/plain": [
       "       cost_of_the_order                                  \n",
       "                   count       mean   min    max       std\n",
       "rating                                                    \n",
       "3                    125  16.197120  4.75  33.03  7.805336\n",
       "4                    277  16.994585  4.80  33.37  7.562787\n",
       "5                    420  17.229310  4.47  33.03  7.538806"
      ]
     },
     "execution_count": 47,
     "metadata": {},
     "output_type": "execute_result"
    }
   ],
   "source": [
    "cost_v_rating_df = df_weekend[[\"rating\",\"cost_of_the_order\"]].groupby(by = [\"rating\"]).agg(['count', 'mean', 'min', 'max', 'std'])\n",
    "cost_v_rating_df"
   ]
  },
  {
   "cell_type": "markdown",
   "id": "Lqb5BBG5bBhd",
   "metadata": {
    "id": "Lqb5BBG5bBhd"
   },
   "source": [
    "During the weekdays, the median cost of the orders was approximately 14 dollars, and the mean price was closer to 16 dollars. Comparing the values to the weekends, we see that the median (15) and average (17) were slightly higher.\n",
    "\n",
    "During the weekends, we noticed that the average cost of the order was slightly higher as the rating increased. Additionally, rating 5 has about half the orders compared to the other ratings.\n",
    "\n",
    "For the weekdays, we could not find any noticeable trend when comparing the cost of the order against the rating.\n",
    "\n",
    "If giving more information regarding the breakdown of the cost of the order, we could find whether the higher cost on the weekends is due to the customer providing a tip to the driver or higher fees during the weekends."
   ]
  },
  {
   "cell_type": "markdown",
   "id": "bdebd1f8",
   "metadata": {
    "id": "bdebd1f8"
   },
   "source": [
    "### Completion Time vs Rating"
   ]
  },
  {
   "cell_type": "code",
   "execution_count": 48,
   "id": "lhz3zX5BfBVB",
   "metadata": {
    "colab": {
     "base_uri": "https://localhost:8080/",
     "height": 420
    },
    "executionInfo": {
     "elapsed": 62,
     "status": "ok",
     "timestamp": 1676476996912,
     "user": {
      "displayName": "Victor Abril",
      "userId": "02019151479126081294"
     },
     "user_tz": 300
    },
    "id": "lhz3zX5BfBVB",
    "outputId": "e3ef0b80-e496-4f4d-d19b-5bafcf74b24c"
   },
   "outputs": [
    {
     "name": "stderr",
     "output_type": "stream",
     "text": [
      "/usr/local/lib/python3.8/dist-packages/matplotlib/cbook/__init__.py:1376: VisibleDeprecationWarning: Creating an ndarray from ragged nested sequences (which is a list-or-tuple of lists-or-tuples-or ndarrays with different lengths or shapes) is deprecated. If you meant to do this, you must specify 'dtype=object' when creating the ndarray.\n",
      "  X = np.atleast_1d(X.T if isinstance(X, np.ndarray) else np.asarray(X))\n"
     ]
    },
    {
     "data": {
      "text/plain": [
       "Text(0.5, 0.98, '')"
      ]
     },
     "execution_count": 48,
     "metadata": {},
     "output_type": "execute_result"
    },
    {
     "data": {
      "image/png": "[encoded data removed]",
      "text/plain": [
       "<Figure size 576x360 with 1 Axes>"
      ]
     },
     "metadata": {
      "needs_background": "light"
     },
     "output_type": "display_data"
    }
   ],
   "source": [
    "df_weekday.boxplot(by ='rating', column =['order_completion_time'], vert = False, figsize = (8,5))\n",
    "plt.xlabel(\"Order Completion Time\")\n",
    "plt.ylabel(\"Rating\")\n",
    "plt.title(\"Order Completion Time vs Rating (Weekday)\")\n",
    "plt.suptitle(\"\")"
   ]
  },
  {
   "cell_type": "code",
   "execution_count": 49,
   "id": "ybAaC9ZWi1Lv",
   "metadata": {
    "colab": {
     "base_uri": "https://localhost:8080/",
     "height": 206
    },
    "executionInfo": {
     "elapsed": 50,
     "status": "ok",
     "timestamp": 1676476996913,
     "user": {
      "displayName": "Victor Abril",
      "userId": "02019151479126081294"
     },
     "user_tz": 300
    },
    "id": "ybAaC9ZWi1Lv",
    "outputId": "67b0b379-0692-43d5-831b-773d30afceaf"
   },
   "outputs": [
    {
     "data": {
      "text/html": [
       "\n",
       "  <div id=\"df-68c5fdcd-ea7e-4163-bdf6-52f435067b7f\">\n",
       "    <div class=\"colab-df-container\">\n",
       "      <div>\n",
       "<style scoped>\n",
       "    .dataframe tbody tr th:only-of-type {\n",
       "        vertical-align: middle;\n",
       "    }\n",
       "\n",
       "    .dataframe tbody tr th {\n",
       "        vertical-align: top;\n",
       "    }\n",
       "\n",
       "    .dataframe thead tr th {\n",
       "        text-align: left;\n",
       "    }\n",
       "\n",
       "    .dataframe thead tr:last-of-type th {\n",
       "        text-align: right;\n",
       "    }\n",
       "</style>\n",
       "<table border=\"1\" class=\"dataframe\">\n",
       "  <thead>\n",
       "    <tr>\n",
       "      <th></th>\n",
       "      <th colspan=\"5\" halign=\"left\">order_completion_time</th>\n",
       "    </tr>\n",
       "    <tr>\n",
       "      <th></th>\n",
       "      <th>count</th>\n",
       "      <th>mean</th>\n",
       "      <th>min</th>\n",
       "      <th>max</th>\n",
       "      <th>std</th>\n",
       "    </tr>\n",
       "    <tr>\n",
       "      <th>rating</th>\n",
       "      <th></th>\n",
       "      <th></th>\n",
       "      <th></th>\n",
       "      <th></th>\n",
       "      <th></th>\n",
       "    </tr>\n",
       "  </thead>\n",
       "  <tbody>\n",
       "    <tr>\n",
       "      <th>3</th>\n",
       "      <td>63</td>\n",
       "      <td>54.666667</td>\n",
       "      <td>44</td>\n",
       "      <td>67</td>\n",
       "      <td>5.447699</td>\n",
       "    </tr>\n",
       "    <tr>\n",
       "      <th>4</th>\n",
       "      <td>109</td>\n",
       "      <td>55.422018</td>\n",
       "      <td>46</td>\n",
       "      <td>68</td>\n",
       "      <td>5.218013</td>\n",
       "    </tr>\n",
       "    <tr>\n",
       "      <th>5</th>\n",
       "      <td>168</td>\n",
       "      <td>56.000000</td>\n",
       "      <td>45</td>\n",
       "      <td>68</td>\n",
       "      <td>5.605814</td>\n",
       "    </tr>\n",
       "  </tbody>\n",
       "</table>\n",
       "</div>\n",
       "      <button class=\"colab-df-convert\" onclick=\"convertToInteractive('df-68c5fdcd-ea7e-4163-bdf6-52f435067b7f')\"\n",
       "              title=\"Convert this dataframe to an interactive table.\"\n",
       "              style=\"display:none;\">\n",
       "        \n",
       "  <svg xmlns=\"http://www.w3.org/2000/svg\" height=\"24px\"viewBox=\"0 0 24 24\"\n",
       "       width=\"24px\">\n",
       "    <path d=\"M0 0h24v24H0V0z\" fill=\"none\"/>\n",
       "    <path d=\"M18.56 5.44l.94 2.06.94-2.06 2.06-.94-2.06-.94-.94-2.06-.94 2.06-2.06.94zm-11 1L8.5 8.5l.94-2.06 2.06-.94-2.06-.94L8.5 2.5l-.94 2.06-2.06.94zm10 10l.94 2.06.94-2.06 2.06-.94-2.06-.94-.94-2.06-.94 2.06-2.06.94z\"/><path d=\"M17.41 7.96l-1.37-1.37c-.4-.4-.92-.59-1.43-.59-.52 0-1.04.2-1.43.59L10.3 9.45l-7.72 7.72c-.78.78-.78 2.05 0 2.83L4 21.41c.39.39.9.59 1.41.59.51 0 1.02-.2 1.41-.59l7.78-7.78 2.81-2.81c.8-.78.8-2.07 0-2.86zM5.41 20L4 18.59l7.72-7.72 1.47 1.35L5.41 20z\"/>\n",
       "  </svg>\n",
       "      </button>\n",
       "      \n",
       "  <style>\n",
       "    .colab-df-container {\n",
       "      display:flex;\n",
       "      flex-wrap:wrap;\n",
       "      gap: 12px;\n",
       "    }\n",
       "\n",
       "    .colab-df-convert {\n",
       "      background-color: #E8F0FE;\n",
       "      border: none;\n",
       "      border-radius: 50%;\n",
       "      cursor: pointer;\n",
       "      display: none;\n",
       "      fill: #1967D2;\n",
       "      height: 32px;\n",
       "      padding: 0 0 0 0;\n",
       "      width: 32px;\n",
       "    }\n",
       "\n",
       "    .colab-df-convert:hover {\n",
       "      background-color: #E2EBFA;\n",
       "      box-shadow: 0px 1px 2px rgba(60, 64, 67, 0.3), 0px 1px 3px 1px rgba(60, 64, 67, 0.15);\n",
       "      fill: #174EA6;\n",
       "    }\n",
       "\n",
       "    [theme=dark] .colab-df-convert {\n",
       "      background-color: #3B4455;\n",
       "      fill: #D2E3FC;\n",
       "    }\n",
       "\n",
       "    [theme=dark] .colab-df-convert:hover {\n",
       "      background-color: #434B5C;\n",
       "      box-shadow: 0px 1px 3px 1px rgba(0, 0, 0, 0.15);\n",
       "      filter: drop-shadow(0px 1px 2px rgba(0, 0, 0, 0.3));\n",
       "      fill: #FFFFFF;\n",
       "    }\n",
       "  </style>\n",
       "\n",
       "      <script>\n",
       "        const buttonEl =\n",
       "          document.querySelector('#df-68c5fdcd-ea7e-4163-bdf6-52f435067b7f button.colab-df-convert');\n",
       "        buttonEl.style.display =\n",
       "          google.colab.kernel.accessAllowed ? 'block' : 'none';\n",
       "\n",
       "        async function convertToInteractive(key) {\n",
       "          const element = document.querySelector('#df-68c5fdcd-ea7e-4163-bdf6-52f435067b7f');\n",
       "          const dataTable =\n",
       "            await google.colab.kernel.invokeFunction('convertToInteractive',\n",
       "                                                     [key], {});\n",
       "          if (!dataTable) return;\n",
       "\n",
       "          const docLinkHtml = 'Like what you see? Visit the ' +\n",
       "            '<a target=\"_blank\" href=https://colab.research.google.com/notebooks/data_table.ipynb>data table notebook</a>'\n",
       "            + ' to learn more about interactive tables.';\n",
       "          element.innerHTML = '';\n",
       "          dataTable['output_type'] = 'display_data';\n",
       "          await google.colab.output.renderOutput(dataTable, element);\n",
       "          const docLink = document.createElement('div');\n",
       "          docLink.innerHTML = docLinkHtml;\n",
       "          element.appendChild(docLink);\n",
       "        }\n",
       "      </script>\n",
       "    </div>\n",
       "  </div>\n",
       "  "
      ],
      "text/plain": [
       "       order_completion_time                             \n",
       "                       count       mean min max       std\n",
       "rating                                                   \n",
       "3                         63  54.666667  44  67  5.447699\n",
       "4                        109  55.422018  46  68  5.218013\n",
       "5                        168  56.000000  45  68  5.605814"
      ]
     },
     "execution_count": 49,
     "metadata": {},
     "output_type": "execute_result"
    }
   ],
   "source": [
    "time_v_rating_df = df_weekday[[\"rating\",\"order_completion_time\"]].groupby(by = [\"rating\"]).agg(['count', 'mean', 'min', 'max', 'std'])\n",
    "time_v_rating_df"
   ]
  },
  {
   "cell_type": "code",
   "execution_count": 50,
   "id": "b736d521",
   "metadata": {
    "colab": {
     "base_uri": "https://localhost:8080/",
     "height": 420
    },
    "executionInfo": {
     "elapsed": 44,
     "status": "ok",
     "timestamp": 1676476996913,
     "user": {
      "displayName": "Victor Abril",
      "userId": "02019151479126081294"
     },
     "user_tz": 300
    },
    "id": "b736d521",
    "outputId": "7cd54015-91c0-4130-d433-1fad39059848"
   },
   "outputs": [
    {
     "name": "stderr",
     "output_type": "stream",
     "text": [
      "/usr/local/lib/python3.8/dist-packages/matplotlib/cbook/__init__.py:1376: VisibleDeprecationWarning: Creating an ndarray from ragged nested sequences (which is a list-or-tuple of lists-or-tuples-or ndarrays with different lengths or shapes) is deprecated. If you meant to do this, you must specify 'dtype=object' when creating the ndarray.\n",
      "  X = np.atleast_1d(X.T if isinstance(X, np.ndarray) else np.asarray(X))\n"
     ]
    },
    {
     "data": {
      "text/plain": [
       "Text(0.5, 0.98, '')"
      ]
     },
     "execution_count": 50,
     "metadata": {},
     "output_type": "execute_result"
    },
    {
     "data": {
      "image/png": "[encoded data removed]",
      "text/plain": [
       "<Figure size 576x360 with 1 Axes>"
      ]
     },
     "metadata": {
      "needs_background": "light"
     },
     "output_type": "display_data"
    }
   ],
   "source": [
    "df_weekend.boxplot(by ='rating', column =['order_completion_time'], vert = False, figsize = (8,5))\n",
    "plt.xlabel(\"Order Completion Time\")\n",
    "plt.ylabel(\"Rating\")\n",
    "plt.title(\"Order Completion Time vs Rating (Weekend)\")\n",
    "plt.suptitle(\"\")"
   ]
  },
  {
   "cell_type": "code",
   "execution_count": 51,
   "id": "80G8KAJejRCV",
   "metadata": {
    "colab": {
     "base_uri": "https://localhost:8080/",
     "height": 206
    },
    "executionInfo": {
     "elapsed": 36,
     "status": "ok",
     "timestamp": 1676476996915,
     "user": {
      "displayName": "Victor Abril",
      "userId": "02019151479126081294"
     },
     "user_tz": 300
    },
    "id": "80G8KAJejRCV",
    "outputId": "eced4cf9-0d1e-43fb-9338-4a59543c3748"
   },
   "outputs": [
    {
     "data": {
      "text/html": [
       "\n",
       "  <div id=\"df-c2366508-33d4-4d49-8a53-1e82a1ec1284\">\n",
       "    <div class=\"colab-df-container\">\n",
       "      <div>\n",
       "<style scoped>\n",
       "    .dataframe tbody tr th:only-of-type {\n",
       "        vertical-align: middle;\n",
       "    }\n",
       "\n",
       "    .dataframe tbody tr th {\n",
       "        vertical-align: top;\n",
       "    }\n",
       "\n",
       "    .dataframe thead tr th {\n",
       "        text-align: left;\n",
       "    }\n",
       "\n",
       "    .dataframe thead tr:last-of-type th {\n",
       "        text-align: right;\n",
       "    }\n",
       "</style>\n",
       "<table border=\"1\" class=\"dataframe\">\n",
       "  <thead>\n",
       "    <tr>\n",
       "      <th></th>\n",
       "      <th colspan=\"5\" halign=\"left\">order_completion_time</th>\n",
       "    </tr>\n",
       "    <tr>\n",
       "      <th></th>\n",
       "      <th>count</th>\n",
       "      <th>mean</th>\n",
       "      <th>min</th>\n",
       "      <th>max</th>\n",
       "      <th>std</th>\n",
       "    </tr>\n",
       "    <tr>\n",
       "      <th>rating</th>\n",
       "      <th></th>\n",
       "      <th></th>\n",
       "      <th></th>\n",
       "      <th></th>\n",
       "      <th></th>\n",
       "    </tr>\n",
       "  </thead>\n",
       "  <tbody>\n",
       "    <tr>\n",
       "      <th>3</th>\n",
       "      <td>125</td>\n",
       "      <td>50.640000</td>\n",
       "      <td>35</td>\n",
       "      <td>65</td>\n",
       "      <td>6.487457</td>\n",
       "    </tr>\n",
       "    <tr>\n",
       "      <th>4</th>\n",
       "      <td>277</td>\n",
       "      <td>49.628159</td>\n",
       "      <td>36</td>\n",
       "      <td>65</td>\n",
       "      <td>6.490992</td>\n",
       "    </tr>\n",
       "    <tr>\n",
       "      <th>5</th>\n",
       "      <td>420</td>\n",
       "      <td>49.795238</td>\n",
       "      <td>35</td>\n",
       "      <td>65</td>\n",
       "      <td>6.609531</td>\n",
       "    </tr>\n",
       "  </tbody>\n",
       "</table>\n",
       "</div>\n",
       "      <button class=\"colab-df-convert\" onclick=\"convertToInteractive('df-c2366508-33d4-4d49-8a53-1e82a1ec1284')\"\n",
       "              title=\"Convert this dataframe to an interactive table.\"\n",
       "              style=\"display:none;\">\n",
       "        \n",
       "  <svg xmlns=\"http://www.w3.org/2000/svg\" height=\"24px\"viewBox=\"0 0 24 24\"\n",
       "       width=\"24px\">\n",
       "    <path d=\"M0 0h24v24H0V0z\" fill=\"none\"/>\n",
       "    <path d=\"M18.56 5.44l.94 2.06.94-2.06 2.06-.94-2.06-.94-.94-2.06-.94 2.06-2.06.94zm-11 1L8.5 8.5l.94-2.06 2.06-.94-2.06-.94L8.5 2.5l-.94 2.06-2.06.94zm10 10l.94 2.06.94-2.06 2.06-.94-2.06-.94-.94-2.06-.94 2.06-2.06.94z\"/><path d=\"M17.41 7.96l-1.37-1.37c-.4-.4-.92-.59-1.43-.59-.52 0-1.04.2-1.43.59L10.3 9.45l-7.72 7.72c-.78.78-.78 2.05 0 2.83L4 21.41c.39.39.9.59 1.41.59.51 0 1.02-.2 1.41-.59l7.78-7.78 2.81-2.81c.8-.78.8-2.07 0-2.86zM5.41 20L4 18.59l7.72-7.72 1.47 1.35L5.41 20z\"/>\n",
       "  </svg>\n",
       "      </button>\n",
       "      \n",
       "  <style>\n",
       "    .colab-df-container {\n",
       "      display:flex;\n",
       "      flex-wrap:wrap;\n",
       "      gap: 12px;\n",
       "    }\n",
       "\n",
       "    .colab-df-convert {\n",
       "      background-color: #E8F0FE;\n",
       "      border: none;\n",
       "      border-radius: 50%;\n",
       "      cursor: pointer;\n",
       "      display: none;\n",
       "      fill: #1967D2;\n",
       "      height: 32px;\n",
       "      padding: 0 0 0 0;\n",
       "      width: 32px;\n",
       "    }\n",
       "\n",
       "    .colab-df-convert:hover {\n",
       "      background-color: #E2EBFA;\n",
       "      box-shadow: 0px 1px 2px rgba(60, 64, 67, 0.3), 0px 1px 3px 1px rgba(60, 64, 67, 0.15);\n",
       "      fill: #174EA6;\n",
       "    }\n",
       "\n",
       "    [theme=dark] .colab-df-convert {\n",
       "      background-color: #3B4455;\n",
       "      fill: #D2E3FC;\n",
       "    }\n",
       "\n",
       "    [theme=dark] .colab-df-convert:hover {\n",
       "      background-color: #434B5C;\n",
       "      box-shadow: 0px 1px 3px 1px rgba(0, 0, 0, 0.15);\n",
       "      filter: drop-shadow(0px 1px 2px rgba(0, 0, 0, 0.3));\n",
       "      fill: #FFFFFF;\n",
       "    }\n",
       "  </style>\n",
       "\n",
       "      <script>\n",
       "        const buttonEl =\n",
       "          document.querySelector('#df-c2366508-33d4-4d49-8a53-1e82a1ec1284 button.colab-df-convert');\n",
       "        buttonEl.style.display =\n",
       "          google.colab.kernel.accessAllowed ? 'block' : 'none';\n",
       "\n",
       "        async function convertToInteractive(key) {\n",
       "          const element = document.querySelector('#df-c2366508-33d4-4d49-8a53-1e82a1ec1284');\n",
       "          const dataTable =\n",
       "            await google.colab.kernel.invokeFunction('convertToInteractive',\n",
       "                                                     [key], {});\n",
       "          if (!dataTable) return;\n",
       "\n",
       "          const docLinkHtml = 'Like what you see? Visit the ' +\n",
       "            '<a target=\"_blank\" href=https://colab.research.google.com/notebooks/data_table.ipynb>data table notebook</a>'\n",
       "            + ' to learn more about interactive tables.';\n",
       "          element.innerHTML = '';\n",
       "          dataTable['output_type'] = 'display_data';\n",
       "          await google.colab.output.renderOutput(dataTable, element);\n",
       "          const docLink = document.createElement('div');\n",
       "          docLink.innerHTML = docLinkHtml;\n",
       "          element.appendChild(docLink);\n",
       "        }\n",
       "      </script>\n",
       "    </div>\n",
       "  </div>\n",
       "  "
      ],
      "text/plain": [
       "       order_completion_time                             \n",
       "                       count       mean min max       std\n",
       "rating                                                   \n",
       "3                        125  50.640000  35  65  6.487457\n",
       "4                        277  49.628159  36  65  6.490992\n",
       "5                        420  49.795238  35  65  6.609531"
      ]
     },
     "execution_count": 51,
     "metadata": {},
     "output_type": "execute_result"
    }
   ],
   "source": [
    "time_v_rating_df = df_weekend[[\"rating\",\"order_completion_time\"]].groupby(by = [\"rating\"]).agg(['count', 'mean', 'min', 'max', 'std'])\n",
    "time_v_rating_df"
   ]
  },
  {
   "cell_type": "markdown",
   "id": "w--YS01vk8LR",
   "metadata": {
    "id": "w--YS01vk8LR"
   },
   "source": [
    "One primary assumption we made is that order_completion_time and rating would be inversely related (i.e., the orders that take longer to complete will have a lower rating). However, that is not the case during the weekday. The average of order_completion_time slightly increases as the rating increases.\n",
    "\n",
    "The same cannot be said for the orders that occur on the weekends. On average, orders with a rating of 3 have one more minute than those with higher ratings. \n",
    "\n",
    "We can infer that customers are willing to wait longer during the weekdays than on the weekends. We could analyze this further if the timestamp for each order was provided. We could compare if an order happens during working hours or after hours and see how that affects the rating. "
   ]
  },
  {
   "cell_type": "markdown",
   "id": "fb20e2ff",
   "metadata": {
    "id": "fb20e2ff"
   },
   "source": [
    "### Cuisine Type vs Rating"
   ]
  },
  {
   "cell_type": "code",
   "execution_count": 52,
   "id": "wYP3HtDI_tbj",
   "metadata": {
    "colab": {
     "base_uri": "https://localhost:8080/",
     "height": 363
    },
    "executionInfo": {
     "elapsed": 350,
     "status": "ok",
     "timestamp": 1676476997230,
     "user": {
      "displayName": "Victor Abril",
      "userId": "02019151479126081294"
     },
     "user_tz": 300
    },
    "id": "wYP3HtDI_tbj",
    "outputId": "7208507b-76c2-4f6c-8f48-543c876eba99"
   },
   "outputs": [
    {
     "data": {
      "text/plain": [
       "Text(0.5, 0, '')"
      ]
     },
     "execution_count": 52,
     "metadata": {},
     "output_type": "execute_result"
    },
    {
     "data": {
      "image/png": "[encoded data removed]",
      "text/plain": [
       "<Figure size 432x288 with 1 Axes>"
      ]
     },
     "metadata": {
      "needs_background": "light"
     },
     "output_type": "display_data"
    }
   ],
   "source": [
    "df_weekday.groupby(by = [\"cuisine_type\", \"rating\" ]).size().unstack().plot(kind='bar', stacked=True)\n",
    "plt.title(\"Cuisine Type vs Rating (Weekday)\")\n",
    "plt.xlabel(\"\")"
   ]
  },
  {
   "cell_type": "code",
   "execution_count": 53,
   "id": "FxvgZ8HujdTP",
   "metadata": {
    "executionInfo": {
     "elapsed": 18,
     "status": "ok",
     "timestamp": 1676476997231,
     "user": {
      "displayName": "Victor Abril",
      "userId": "02019151479126081294"
     },
     "user_tz": 300
    },
    "id": "FxvgZ8HujdTP"
   },
   "outputs": [],
   "source": [
    "cuisine_v_rating_day_df = df_weekday[[\"cuisine_type\",\"rating\", \"cost_of_the_order\", \"order_completion_time\"]].groupby(by = [\"cuisine_type\"]).agg({\"rating\" :[ 'count','mean']})\n",
    "cuisine_v_rating_day_graph = cuisine_v_rating_day_df.sort_values(by =(\"rating\", \"mean\"), ascending = False)"
   ]
  },
  {
   "cell_type": "code",
   "execution_count": 54,
   "id": "NLlL9OSOeqyY",
   "metadata": {
    "colab": {
     "base_uri": "https://localhost:8080/",
     "height": 363
    },
    "executionInfo": {
     "elapsed": 3490,
     "status": "ok",
     "timestamp": 1676477000704,
     "user": {
      "displayName": "Victor Abril",
      "userId": "02019151479126081294"
     },
     "user_tz": 300
    },
    "id": "NLlL9OSOeqyY",
    "outputId": "edddff4e-25b8-4721-9b85-285319c97fb9"
   },
   "outputs": [
    {
     "data": {
      "text/plain": [
       "Text(0.5, 0, '')"
      ]
     },
     "execution_count": 54,
     "metadata": {},
     "output_type": "execute_result"
    },
    {
     "data": {
      "image/png": "[encoded data removed]",
      "text/plain": [
       "<Figure size 432x288 with 1 Axes>"
      ]
     },
     "metadata": {
      "needs_background": "light"
     },
     "output_type": "display_data"
    }
   ],
   "source": [
    "cuisine_v_rating_day_graph.plot(kind = 'bar', y = (\"rating\", \"mean\"), legend = None)\n",
    "plt.title(\"Cuisine Type vs Rating (Weekday)\")\n",
    "plt.xlabel(\"\")"
   ]
  },
  {
   "cell_type": "code",
   "execution_count": 55,
   "id": "jTpeYPkUhcAK",
   "metadata": {
    "colab": {
     "base_uri": "https://localhost:8080/",
     "height": 363
    },
    "executionInfo": {
     "elapsed": 4143,
     "status": "ok",
     "timestamp": 1676477004433,
     "user": {
      "displayName": "Victor Abril",
      "userId": "02019151479126081294"
     },
     "user_tz": 300
    },
    "id": "jTpeYPkUhcAK",
    "outputId": "1a73e415-5bed-469d-bd8e-0b0da8e5b9d6"
   },
   "outputs": [
    {
     "data": {
      "text/plain": [
       "Text(0.5, 0, '')"
      ]
     },
     "execution_count": 55,
     "metadata": {},
     "output_type": "execute_result"
    },
    {
     "data": {
      "image/png": "[encoded data removed]",
      "text/plain": [
       "<Figure size 432x288 with 1 Axes>"
      ]
     },
     "metadata": {
      "needs_background": "light"
     },
     "output_type": "display_data"
    }
   ],
   "source": [
    "df_weekend.groupby(by = [\"cuisine_type\", \"rating\" ]).size().unstack().plot(kind='bar', stacked=True)\n",
    "plt.title(\"Cuisine Type vs Rating (Weekend)\")\n",
    "plt.xlabel(\"\")"
   ]
  },
  {
   "cell_type": "code",
   "execution_count": 56,
   "id": "1lNdUT9iJDja",
   "metadata": {
    "executionInfo": {
     "elapsed": 79,
     "status": "ok",
     "timestamp": 1676477004439,
     "user": {
      "displayName": "Victor Abril",
      "userId": "02019151479126081294"
     },
     "user_tz": 300
    },
    "id": "1lNdUT9iJDja"
   },
   "outputs": [],
   "source": [
    "cuisine_v_rating_end_df = df_weekend[[\"cuisine_type\",\"rating\", \"cost_of_the_order\", \"order_completion_time\"]].groupby(by = [\"cuisine_type\"]).agg({\"rating\":['count','mean']})\n",
    "cuisine_v_rating_end_graph= cuisine_v_rating_end_df.sort_values(by =(\"rating\", \"mean\"), ascending = False)"
   ]
  },
  {
   "cell_type": "code",
   "execution_count": 57,
   "id": "j4zoBManfQM8",
   "metadata": {
    "colab": {
     "base_uri": "https://localhost:8080/",
     "height": 363
    },
    "executionInfo": {
     "elapsed": 74,
     "status": "ok",
     "timestamp": 1676477004441,
     "user": {
      "displayName": "Victor Abril",
      "userId": "02019151479126081294"
     },
     "user_tz": 300
    },
    "id": "j4zoBManfQM8",
    "outputId": "2fb4c86d-6502-49c1-d679-a6dfdc066cf8"
   },
   "outputs": [
    {
     "data": {
      "text/plain": [
       "Text(0.5, 0, '')"
      ]
     },
     "execution_count": 57,
     "metadata": {},
     "output_type": "execute_result"
    },
    {
     "data": {
      "image/png": "[encoded data removed]",
      "text/plain": [
       "<Figure size 432x288 with 1 Axes>"
      ]
     },
     "metadata": {
      "needs_background": "light"
     },
     "output_type": "display_data"
    }
   ],
   "source": [
    "cuisine_v_rating_end_graph.plot(kind = 'bar', y = (\"rating\", \"mean\"), legend = None)\n",
    "plt.title(\"Cuisine Type vs Rating (Weekend)\")\n",
    "plt.xlabel(\"\")"
   ]
  },
  {
   "cell_type": "markdown",
   "id": "73FJAEiUcp4d",
   "metadata": {
    "id": "73FJAEiUcp4d"
   },
   "source": [
    "From the graphs above, we can observe that:\n",
    "*  American, Japanese, Italian, and Chinese are the best-performing cuisines in terms of orders overall\n",
    "* Spanish, Thai, and Indian are the top 3 highly-rated cuisines on the weekends\n",
    "* French, Korean, and Middle Eastern are the top 3 highly rated cuisines on the weekdays\n",
    "* We would recommend adding more restaurants in the top 3 highly rated cuisines to potentially attract more customers to the food delivery application\n",
    "* Based on this dataset, we recommend ordering from restaurants that fall into Spanish or French cuisines."
   ]
  },
  {
   "cell_type": "markdown",
   "id": "wbPMdKNdpwXj",
   "metadata": {
    "id": "wbPMdKNdpwXj"
   },
   "source": [
    "## Limitations"
   ]
  },
  {
   "cell_type": "markdown",
   "id": "KgDU423_p9nl",
   "metadata": {
    "id": "KgDU423_p9nl"
   },
   "source": [
    "* data does not provide a timestamp specifying the date and time for each order. A  more detailed and thorough analysis can be conducted if a timestamp were to be provided\n",
    "* The data needs to provide a breakdown of the order's cost, allowing us to understand the underlying reason behind the prices for each order\n",
    "* Approximately 40% of the original data had to be dropped because it did not contain ratings "
   ]
  }
 ],
 "metadata": {
  "colab": {
   "collapsed_sections": [
    "YH287-LCqr9l"
   ],
   "provenance": []
  },
  "kernelspec": {
   "display_name": "PythonData",
   "language": "python",
   "name": "pythondata"
  },
  "language_info": {
   "codemirror_mode": {
    "name": "ipython",
    "version": 3
   },
   "file_extension": ".py",
   "mimetype": "text/x-python",
   "name": "python",
   "nbconvert_exporter": "python",
   "pygments_lexer": "ipython3",
   "version": "3.9.13"
  }
 },
 "nbformat": 4,
 "nbformat_minor": 5
}
